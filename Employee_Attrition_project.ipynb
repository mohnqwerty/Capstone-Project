{
 "cells": [
  {
   "cell_type": "code",
   "execution_count": null,
   "id": "bdbaf572",
   "metadata": {},
   "outputs": [],
   "source": [
    "# Capstone Project - HR Employee Attrition\n",
    "# Name: Mohan Krishna Pydikonda\n",
    "# mail: mohnqwerty@gmail.com\n",
    "# Phone: +919897608426"
   ]
  },
  {
   "cell_type": "code",
   "execution_count": 1,
   "id": "15d593cd",
   "metadata": {},
   "outputs": [],
   "source": [
    "import pandas as pd\n",
    "import seaborn as sns\n",
    "import matplotlib.pyplot as plt\n",
    "%matplotlib inline\n",
    "import warnings\n",
    "warnings.filterwarnings('ignore')"
   ]
  },
  {
   "cell_type": "code",
   "execution_count": 2,
   "id": "32e36faa",
   "metadata": {},
   "outputs": [],
   "source": [
    "empdat = pd.read_csv('HR_Employee_Attrition_Data.csv')"
   ]
  },
  {
   "cell_type": "code",
   "execution_count": 3,
   "id": "382634b0",
   "metadata": {},
   "outputs": [
    {
     "data": {
      "text/html": [
       "<div>\n",
       "<style scoped>\n",
       "    .dataframe tbody tr th:only-of-type {\n",
       "        vertical-align: middle;\n",
       "    }\n",
       "\n",
       "    .dataframe tbody tr th {\n",
       "        vertical-align: top;\n",
       "    }\n",
       "\n",
       "    .dataframe thead th {\n",
       "        text-align: right;\n",
       "    }\n",
       "</style>\n",
       "<table border=\"1\" class=\"dataframe\">\n",
       "  <thead>\n",
       "    <tr style=\"text-align: right;\">\n",
       "      <th></th>\n",
       "      <th>Age</th>\n",
       "      <th>Attrition</th>\n",
       "      <th>BusinessTravel</th>\n",
       "      <th>DailyRate</th>\n",
       "      <th>Department</th>\n",
       "      <th>DistanceFromHome</th>\n",
       "      <th>Education</th>\n",
       "      <th>EducationField</th>\n",
       "      <th>EmployeeCount</th>\n",
       "      <th>EmployeeNumber</th>\n",
       "      <th>...</th>\n",
       "      <th>RelationshipSatisfaction</th>\n",
       "      <th>StandardHours</th>\n",
       "      <th>StockOptionLevel</th>\n",
       "      <th>TotalWorkingYears</th>\n",
       "      <th>TrainingTimesLastYear</th>\n",
       "      <th>WorkLifeBalance</th>\n",
       "      <th>YearsAtCompany</th>\n",
       "      <th>YearsInCurrentRole</th>\n",
       "      <th>YearsSinceLastPromotion</th>\n",
       "      <th>YearsWithCurrManager</th>\n",
       "    </tr>\n",
       "  </thead>\n",
       "  <tbody>\n",
       "    <tr>\n",
       "      <th>0</th>\n",
       "      <td>41</td>\n",
       "      <td>Yes</td>\n",
       "      <td>Travel_Rarely</td>\n",
       "      <td>1102</td>\n",
       "      <td>Sales</td>\n",
       "      <td>1</td>\n",
       "      <td>2</td>\n",
       "      <td>Life Sciences</td>\n",
       "      <td>1</td>\n",
       "      <td>1</td>\n",
       "      <td>...</td>\n",
       "      <td>1</td>\n",
       "      <td>80</td>\n",
       "      <td>0</td>\n",
       "      <td>8</td>\n",
       "      <td>0</td>\n",
       "      <td>1</td>\n",
       "      <td>6</td>\n",
       "      <td>4</td>\n",
       "      <td>0</td>\n",
       "      <td>5</td>\n",
       "    </tr>\n",
       "    <tr>\n",
       "      <th>1</th>\n",
       "      <td>49</td>\n",
       "      <td>No</td>\n",
       "      <td>Travel_Frequently</td>\n",
       "      <td>279</td>\n",
       "      <td>Research &amp; Development</td>\n",
       "      <td>8</td>\n",
       "      <td>1</td>\n",
       "      <td>Life Sciences</td>\n",
       "      <td>1</td>\n",
       "      <td>2</td>\n",
       "      <td>...</td>\n",
       "      <td>4</td>\n",
       "      <td>80</td>\n",
       "      <td>1</td>\n",
       "      <td>10</td>\n",
       "      <td>3</td>\n",
       "      <td>3</td>\n",
       "      <td>10</td>\n",
       "      <td>7</td>\n",
       "      <td>1</td>\n",
       "      <td>7</td>\n",
       "    </tr>\n",
       "    <tr>\n",
       "      <th>2</th>\n",
       "      <td>37</td>\n",
       "      <td>Yes</td>\n",
       "      <td>Travel_Rarely</td>\n",
       "      <td>1373</td>\n",
       "      <td>Research &amp; Development</td>\n",
       "      <td>2</td>\n",
       "      <td>2</td>\n",
       "      <td>Other</td>\n",
       "      <td>1</td>\n",
       "      <td>3</td>\n",
       "      <td>...</td>\n",
       "      <td>2</td>\n",
       "      <td>80</td>\n",
       "      <td>0</td>\n",
       "      <td>7</td>\n",
       "      <td>3</td>\n",
       "      <td>3</td>\n",
       "      <td>0</td>\n",
       "      <td>0</td>\n",
       "      <td>0</td>\n",
       "      <td>0</td>\n",
       "    </tr>\n",
       "    <tr>\n",
       "      <th>3</th>\n",
       "      <td>33</td>\n",
       "      <td>No</td>\n",
       "      <td>Travel_Frequently</td>\n",
       "      <td>1392</td>\n",
       "      <td>Research &amp; Development</td>\n",
       "      <td>3</td>\n",
       "      <td>4</td>\n",
       "      <td>Life Sciences</td>\n",
       "      <td>1</td>\n",
       "      <td>4</td>\n",
       "      <td>...</td>\n",
       "      <td>3</td>\n",
       "      <td>80</td>\n",
       "      <td>0</td>\n",
       "      <td>8</td>\n",
       "      <td>3</td>\n",
       "      <td>3</td>\n",
       "      <td>8</td>\n",
       "      <td>7</td>\n",
       "      <td>3</td>\n",
       "      <td>0</td>\n",
       "    </tr>\n",
       "    <tr>\n",
       "      <th>4</th>\n",
       "      <td>27</td>\n",
       "      <td>No</td>\n",
       "      <td>Travel_Rarely</td>\n",
       "      <td>591</td>\n",
       "      <td>Research &amp; Development</td>\n",
       "      <td>2</td>\n",
       "      <td>1</td>\n",
       "      <td>Medical</td>\n",
       "      <td>1</td>\n",
       "      <td>5</td>\n",
       "      <td>...</td>\n",
       "      <td>4</td>\n",
       "      <td>80</td>\n",
       "      <td>1</td>\n",
       "      <td>6</td>\n",
       "      <td>3</td>\n",
       "      <td>3</td>\n",
       "      <td>2</td>\n",
       "      <td>2</td>\n",
       "      <td>2</td>\n",
       "      <td>2</td>\n",
       "    </tr>\n",
       "  </tbody>\n",
       "</table>\n",
       "<p>5 rows × 35 columns</p>\n",
       "</div>"
      ],
      "text/plain": [
       "   Age Attrition     BusinessTravel  DailyRate              Department  \\\n",
       "0   41       Yes      Travel_Rarely       1102                   Sales   \n",
       "1   49        No  Travel_Frequently        279  Research & Development   \n",
       "2   37       Yes      Travel_Rarely       1373  Research & Development   \n",
       "3   33        No  Travel_Frequently       1392  Research & Development   \n",
       "4   27        No      Travel_Rarely        591  Research & Development   \n",
       "\n",
       "   DistanceFromHome  Education EducationField  EmployeeCount  EmployeeNumber  \\\n",
       "0                 1          2  Life Sciences              1               1   \n",
       "1                 8          1  Life Sciences              1               2   \n",
       "2                 2          2          Other              1               3   \n",
       "3                 3          4  Life Sciences              1               4   \n",
       "4                 2          1        Medical              1               5   \n",
       "\n",
       "   ...  RelationshipSatisfaction StandardHours  StockOptionLevel  \\\n",
       "0  ...                         1            80                 0   \n",
       "1  ...                         4            80                 1   \n",
       "2  ...                         2            80                 0   \n",
       "3  ...                         3            80                 0   \n",
       "4  ...                         4            80                 1   \n",
       "\n",
       "   TotalWorkingYears  TrainingTimesLastYear WorkLifeBalance  YearsAtCompany  \\\n",
       "0                  8                      0               1               6   \n",
       "1                 10                      3               3              10   \n",
       "2                  7                      3               3               0   \n",
       "3                  8                      3               3               8   \n",
       "4                  6                      3               3               2   \n",
       "\n",
       "  YearsInCurrentRole  YearsSinceLastPromotion  YearsWithCurrManager  \n",
       "0                  4                        0                     5  \n",
       "1                  7                        1                     7  \n",
       "2                  0                        0                     0  \n",
       "3                  7                        3                     0  \n",
       "4                  2                        2                     2  \n",
       "\n",
       "[5 rows x 35 columns]"
      ]
     },
     "execution_count": 3,
     "metadata": {},
     "output_type": "execute_result"
    }
   ],
   "source": [
    "empdat.head()"
   ]
  },
  {
   "cell_type": "code",
   "execution_count": 4,
   "id": "aec25679",
   "metadata": {},
   "outputs": [
    {
     "data": {
      "text/plain": [
       "Index(['Age', 'Attrition', 'BusinessTravel', 'DailyRate', 'Department',\n",
       "       'DistanceFromHome', 'Education', 'EducationField', 'EmployeeCount',\n",
       "       'EmployeeNumber', 'EnvironmentSatisfaction', 'Gender', 'HourlyRate',\n",
       "       'JobInvolvement', 'JobLevel', 'JobRole', 'JobSatisfaction',\n",
       "       'MaritalStatus', 'MonthlyIncome', 'MonthlyRate', 'NumCompaniesWorked',\n",
       "       'Over18', 'OverTime', 'PercentSalaryHike', 'PerformanceRating',\n",
       "       'RelationshipSatisfaction', 'StandardHours', 'StockOptionLevel',\n",
       "       'TotalWorkingYears', 'TrainingTimesLastYear', 'WorkLifeBalance',\n",
       "       'YearsAtCompany', 'YearsInCurrentRole', 'YearsSinceLastPromotion',\n",
       "       'YearsWithCurrManager'],\n",
       "      dtype='object')"
      ]
     },
     "execution_count": 4,
     "metadata": {},
     "output_type": "execute_result"
    }
   ],
   "source": [
    "empdat.columns\n",
    "# empdat.describe()"
   ]
  },
  {
   "cell_type": "code",
   "execution_count": 5,
   "id": "cfef7482",
   "metadata": {},
   "outputs": [
    {
     "data": {
      "text/html": [
       "<div>\n",
       "<style scoped>\n",
       "    .dataframe tbody tr th:only-of-type {\n",
       "        vertical-align: middle;\n",
       "    }\n",
       "\n",
       "    .dataframe tbody tr th {\n",
       "        vertical-align: top;\n",
       "    }\n",
       "\n",
       "    .dataframe thead th {\n",
       "        text-align: right;\n",
       "    }\n",
       "</style>\n",
       "<table border=\"1\" class=\"dataframe\">\n",
       "  <thead>\n",
       "    <tr style=\"text-align: right;\">\n",
       "      <th></th>\n",
       "      <th>Age</th>\n",
       "      <th>DailyRate</th>\n",
       "      <th>DistanceFromHome</th>\n",
       "      <th>Education</th>\n",
       "      <th>EmployeeCount</th>\n",
       "      <th>EmployeeNumber</th>\n",
       "      <th>EnvironmentSatisfaction</th>\n",
       "      <th>HourlyRate</th>\n",
       "      <th>JobInvolvement</th>\n",
       "      <th>JobLevel</th>\n",
       "      <th>...</th>\n",
       "      <th>RelationshipSatisfaction</th>\n",
       "      <th>StandardHours</th>\n",
       "      <th>StockOptionLevel</th>\n",
       "      <th>TotalWorkingYears</th>\n",
       "      <th>TrainingTimesLastYear</th>\n",
       "      <th>WorkLifeBalance</th>\n",
       "      <th>YearsAtCompany</th>\n",
       "      <th>YearsInCurrentRole</th>\n",
       "      <th>YearsSinceLastPromotion</th>\n",
       "      <th>YearsWithCurrManager</th>\n",
       "    </tr>\n",
       "  </thead>\n",
       "  <tbody>\n",
       "    <tr>\n",
       "      <th>count</th>\n",
       "      <td>2940.000000</td>\n",
       "      <td>2940.000000</td>\n",
       "      <td>2940.000000</td>\n",
       "      <td>2940.000000</td>\n",
       "      <td>2940.0</td>\n",
       "      <td>2940.000000</td>\n",
       "      <td>2940.000000</td>\n",
       "      <td>2940.000000</td>\n",
       "      <td>2940.000000</td>\n",
       "      <td>2940.000000</td>\n",
       "      <td>...</td>\n",
       "      <td>2940.000000</td>\n",
       "      <td>2940.0</td>\n",
       "      <td>2940.000000</td>\n",
       "      <td>2940.000000</td>\n",
       "      <td>2940.000000</td>\n",
       "      <td>2940.000000</td>\n",
       "      <td>2940.000000</td>\n",
       "      <td>2940.000000</td>\n",
       "      <td>2940.000000</td>\n",
       "      <td>2940.000000</td>\n",
       "    </tr>\n",
       "    <tr>\n",
       "      <th>mean</th>\n",
       "      <td>36.923810</td>\n",
       "      <td>802.485714</td>\n",
       "      <td>9.192517</td>\n",
       "      <td>2.912925</td>\n",
       "      <td>1.0</td>\n",
       "      <td>1470.500000</td>\n",
       "      <td>2.721769</td>\n",
       "      <td>65.891156</td>\n",
       "      <td>2.729932</td>\n",
       "      <td>2.063946</td>\n",
       "      <td>...</td>\n",
       "      <td>2.712245</td>\n",
       "      <td>80.0</td>\n",
       "      <td>0.793878</td>\n",
       "      <td>11.279592</td>\n",
       "      <td>2.799320</td>\n",
       "      <td>2.761224</td>\n",
       "      <td>7.008163</td>\n",
       "      <td>4.229252</td>\n",
       "      <td>2.187755</td>\n",
       "      <td>4.123129</td>\n",
       "    </tr>\n",
       "    <tr>\n",
       "      <th>std</th>\n",
       "      <td>9.133819</td>\n",
       "      <td>403.440447</td>\n",
       "      <td>8.105485</td>\n",
       "      <td>1.023991</td>\n",
       "      <td>0.0</td>\n",
       "      <td>848.849221</td>\n",
       "      <td>1.092896</td>\n",
       "      <td>20.325969</td>\n",
       "      <td>0.711440</td>\n",
       "      <td>1.106752</td>\n",
       "      <td>...</td>\n",
       "      <td>1.081025</td>\n",
       "      <td>0.0</td>\n",
       "      <td>0.851932</td>\n",
       "      <td>7.779458</td>\n",
       "      <td>1.289051</td>\n",
       "      <td>0.706356</td>\n",
       "      <td>6.125483</td>\n",
       "      <td>3.622521</td>\n",
       "      <td>3.221882</td>\n",
       "      <td>3.567529</td>\n",
       "    </tr>\n",
       "    <tr>\n",
       "      <th>min</th>\n",
       "      <td>18.000000</td>\n",
       "      <td>102.000000</td>\n",
       "      <td>1.000000</td>\n",
       "      <td>1.000000</td>\n",
       "      <td>1.0</td>\n",
       "      <td>1.000000</td>\n",
       "      <td>1.000000</td>\n",
       "      <td>30.000000</td>\n",
       "      <td>1.000000</td>\n",
       "      <td>1.000000</td>\n",
       "      <td>...</td>\n",
       "      <td>1.000000</td>\n",
       "      <td>80.0</td>\n",
       "      <td>0.000000</td>\n",
       "      <td>0.000000</td>\n",
       "      <td>0.000000</td>\n",
       "      <td>1.000000</td>\n",
       "      <td>0.000000</td>\n",
       "      <td>0.000000</td>\n",
       "      <td>0.000000</td>\n",
       "      <td>0.000000</td>\n",
       "    </tr>\n",
       "    <tr>\n",
       "      <th>25%</th>\n",
       "      <td>30.000000</td>\n",
       "      <td>465.000000</td>\n",
       "      <td>2.000000</td>\n",
       "      <td>2.000000</td>\n",
       "      <td>1.0</td>\n",
       "      <td>735.750000</td>\n",
       "      <td>2.000000</td>\n",
       "      <td>48.000000</td>\n",
       "      <td>2.000000</td>\n",
       "      <td>1.000000</td>\n",
       "      <td>...</td>\n",
       "      <td>2.000000</td>\n",
       "      <td>80.0</td>\n",
       "      <td>0.000000</td>\n",
       "      <td>6.000000</td>\n",
       "      <td>2.000000</td>\n",
       "      <td>2.000000</td>\n",
       "      <td>3.000000</td>\n",
       "      <td>2.000000</td>\n",
       "      <td>0.000000</td>\n",
       "      <td>2.000000</td>\n",
       "    </tr>\n",
       "    <tr>\n",
       "      <th>50%</th>\n",
       "      <td>36.000000</td>\n",
       "      <td>802.000000</td>\n",
       "      <td>7.000000</td>\n",
       "      <td>3.000000</td>\n",
       "      <td>1.0</td>\n",
       "      <td>1470.500000</td>\n",
       "      <td>3.000000</td>\n",
       "      <td>66.000000</td>\n",
       "      <td>3.000000</td>\n",
       "      <td>2.000000</td>\n",
       "      <td>...</td>\n",
       "      <td>3.000000</td>\n",
       "      <td>80.0</td>\n",
       "      <td>1.000000</td>\n",
       "      <td>10.000000</td>\n",
       "      <td>3.000000</td>\n",
       "      <td>3.000000</td>\n",
       "      <td>5.000000</td>\n",
       "      <td>3.000000</td>\n",
       "      <td>1.000000</td>\n",
       "      <td>3.000000</td>\n",
       "    </tr>\n",
       "    <tr>\n",
       "      <th>75%</th>\n",
       "      <td>43.000000</td>\n",
       "      <td>1157.000000</td>\n",
       "      <td>14.000000</td>\n",
       "      <td>4.000000</td>\n",
       "      <td>1.0</td>\n",
       "      <td>2205.250000</td>\n",
       "      <td>4.000000</td>\n",
       "      <td>84.000000</td>\n",
       "      <td>3.000000</td>\n",
       "      <td>3.000000</td>\n",
       "      <td>...</td>\n",
       "      <td>4.000000</td>\n",
       "      <td>80.0</td>\n",
       "      <td>1.000000</td>\n",
       "      <td>15.000000</td>\n",
       "      <td>3.000000</td>\n",
       "      <td>3.000000</td>\n",
       "      <td>9.000000</td>\n",
       "      <td>7.000000</td>\n",
       "      <td>3.000000</td>\n",
       "      <td>7.000000</td>\n",
       "    </tr>\n",
       "    <tr>\n",
       "      <th>max</th>\n",
       "      <td>60.000000</td>\n",
       "      <td>1499.000000</td>\n",
       "      <td>29.000000</td>\n",
       "      <td>5.000000</td>\n",
       "      <td>1.0</td>\n",
       "      <td>2940.000000</td>\n",
       "      <td>4.000000</td>\n",
       "      <td>100.000000</td>\n",
       "      <td>4.000000</td>\n",
       "      <td>5.000000</td>\n",
       "      <td>...</td>\n",
       "      <td>4.000000</td>\n",
       "      <td>80.0</td>\n",
       "      <td>3.000000</td>\n",
       "      <td>40.000000</td>\n",
       "      <td>6.000000</td>\n",
       "      <td>4.000000</td>\n",
       "      <td>40.000000</td>\n",
       "      <td>18.000000</td>\n",
       "      <td>15.000000</td>\n",
       "      <td>17.000000</td>\n",
       "    </tr>\n",
       "  </tbody>\n",
       "</table>\n",
       "<p>8 rows × 26 columns</p>\n",
       "</div>"
      ],
      "text/plain": [
       "               Age    DailyRate  DistanceFromHome    Education  EmployeeCount  \\\n",
       "count  2940.000000  2940.000000       2940.000000  2940.000000         2940.0   \n",
       "mean     36.923810   802.485714          9.192517     2.912925            1.0   \n",
       "std       9.133819   403.440447          8.105485     1.023991            0.0   \n",
       "min      18.000000   102.000000          1.000000     1.000000            1.0   \n",
       "25%      30.000000   465.000000          2.000000     2.000000            1.0   \n",
       "50%      36.000000   802.000000          7.000000     3.000000            1.0   \n",
       "75%      43.000000  1157.000000         14.000000     4.000000            1.0   \n",
       "max      60.000000  1499.000000         29.000000     5.000000            1.0   \n",
       "\n",
       "       EmployeeNumber  EnvironmentSatisfaction   HourlyRate  JobInvolvement  \\\n",
       "count     2940.000000              2940.000000  2940.000000     2940.000000   \n",
       "mean      1470.500000                 2.721769    65.891156        2.729932   \n",
       "std        848.849221                 1.092896    20.325969        0.711440   \n",
       "min          1.000000                 1.000000    30.000000        1.000000   \n",
       "25%        735.750000                 2.000000    48.000000        2.000000   \n",
       "50%       1470.500000                 3.000000    66.000000        3.000000   \n",
       "75%       2205.250000                 4.000000    84.000000        3.000000   \n",
       "max       2940.000000                 4.000000   100.000000        4.000000   \n",
       "\n",
       "          JobLevel  ...  RelationshipSatisfaction  StandardHours  \\\n",
       "count  2940.000000  ...               2940.000000         2940.0   \n",
       "mean      2.063946  ...                  2.712245           80.0   \n",
       "std       1.106752  ...                  1.081025            0.0   \n",
       "min       1.000000  ...                  1.000000           80.0   \n",
       "25%       1.000000  ...                  2.000000           80.0   \n",
       "50%       2.000000  ...                  3.000000           80.0   \n",
       "75%       3.000000  ...                  4.000000           80.0   \n",
       "max       5.000000  ...                  4.000000           80.0   \n",
       "\n",
       "       StockOptionLevel  TotalWorkingYears  TrainingTimesLastYear  \\\n",
       "count       2940.000000        2940.000000            2940.000000   \n",
       "mean           0.793878          11.279592               2.799320   \n",
       "std            0.851932           7.779458               1.289051   \n",
       "min            0.000000           0.000000               0.000000   \n",
       "25%            0.000000           6.000000               2.000000   \n",
       "50%            1.000000          10.000000               3.000000   \n",
       "75%            1.000000          15.000000               3.000000   \n",
       "max            3.000000          40.000000               6.000000   \n",
       "\n",
       "       WorkLifeBalance  YearsAtCompany  YearsInCurrentRole  \\\n",
       "count      2940.000000     2940.000000         2940.000000   \n",
       "mean          2.761224        7.008163            4.229252   \n",
       "std           0.706356        6.125483            3.622521   \n",
       "min           1.000000        0.000000            0.000000   \n",
       "25%           2.000000        3.000000            2.000000   \n",
       "50%           3.000000        5.000000            3.000000   \n",
       "75%           3.000000        9.000000            7.000000   \n",
       "max           4.000000       40.000000           18.000000   \n",
       "\n",
       "       YearsSinceLastPromotion  YearsWithCurrManager  \n",
       "count              2940.000000           2940.000000  \n",
       "mean                  2.187755              4.123129  \n",
       "std                   3.221882              3.567529  \n",
       "min                   0.000000              0.000000  \n",
       "25%                   0.000000              2.000000  \n",
       "50%                   1.000000              3.000000  \n",
       "75%                   3.000000              7.000000  \n",
       "max                  15.000000             17.000000  \n",
       "\n",
       "[8 rows x 26 columns]"
      ]
     },
     "execution_count": 5,
     "metadata": {},
     "output_type": "execute_result"
    }
   ],
   "source": [
    "empdat.describe()"
   ]
  },
  {
   "cell_type": "code",
   "execution_count": 6,
   "id": "5e5e9fa9",
   "metadata": {},
   "outputs": [
    {
     "name": "stdout",
     "output_type": "stream",
     "text": [
      "<class 'pandas.core.frame.DataFrame'>\n",
      "RangeIndex: 2940 entries, 0 to 2939\n",
      "Data columns (total 35 columns):\n",
      " #   Column                    Non-Null Count  Dtype \n",
      "---  ------                    --------------  ----- \n",
      " 0   Age                       2940 non-null   int64 \n",
      " 1   Attrition                 2940 non-null   object\n",
      " 2   BusinessTravel            2940 non-null   object\n",
      " 3   DailyRate                 2940 non-null   int64 \n",
      " 4   Department                2940 non-null   object\n",
      " 5   DistanceFromHome          2940 non-null   int64 \n",
      " 6   Education                 2940 non-null   int64 \n",
      " 7   EducationField            2940 non-null   object\n",
      " 8   EmployeeCount             2940 non-null   int64 \n",
      " 9   EmployeeNumber            2940 non-null   int64 \n",
      " 10  EnvironmentSatisfaction   2940 non-null   int64 \n",
      " 11  Gender                    2940 non-null   object\n",
      " 12  HourlyRate                2940 non-null   int64 \n",
      " 13  JobInvolvement            2940 non-null   int64 \n",
      " 14  JobLevel                  2940 non-null   int64 \n",
      " 15  JobRole                   2940 non-null   object\n",
      " 16  JobSatisfaction           2940 non-null   int64 \n",
      " 17  MaritalStatus             2940 non-null   object\n",
      " 18  MonthlyIncome             2940 non-null   int64 \n",
      " 19  MonthlyRate               2940 non-null   int64 \n",
      " 20  NumCompaniesWorked        2940 non-null   int64 \n",
      " 21  Over18                    2940 non-null   object\n",
      " 22  OverTime                  2940 non-null   object\n",
      " 23  PercentSalaryHike         2940 non-null   int64 \n",
      " 24  PerformanceRating         2940 non-null   int64 \n",
      " 25  RelationshipSatisfaction  2940 non-null   int64 \n",
      " 26  StandardHours             2940 non-null   int64 \n",
      " 27  StockOptionLevel          2940 non-null   int64 \n",
      " 28  TotalWorkingYears         2940 non-null   int64 \n",
      " 29  TrainingTimesLastYear     2940 non-null   int64 \n",
      " 30  WorkLifeBalance           2940 non-null   int64 \n",
      " 31  YearsAtCompany            2940 non-null   int64 \n",
      " 32  YearsInCurrentRole        2940 non-null   int64 \n",
      " 33  YearsSinceLastPromotion   2940 non-null   int64 \n",
      " 34  YearsWithCurrManager      2940 non-null   int64 \n",
      "dtypes: int64(26), object(9)\n",
      "memory usage: 804.0+ KB\n"
     ]
    }
   ],
   "source": [
    "empdat.info()"
   ]
  },
  {
   "cell_type": "code",
   "execution_count": 7,
   "id": "224ecc57",
   "metadata": {},
   "outputs": [
    {
     "data": {
      "text/plain": [
       "Text(0, 0.5, 'Frequency')"
      ]
     },
     "execution_count": 7,
     "metadata": {},
     "output_type": "execute_result"
    },
    {
     "data": {
      "image/png": "[encoded data removed]",
      "text/plain": [
       "<Figure size 720x432 with 1 Axes>"
      ]
     },
     "metadata": {
      "needs_background": "light"
     },
     "output_type": "display_data"
    }
   ],
   "source": [
    "import numpy as np\n",
    "plt.figure(figsize=[10,6])\n",
    "bins_edges = np.arange(18, empdat[\"Age\"].max()+1, 1)\n",
    "plt.hist(data=empdat, x=\"Age\", bins=bins_edges, rwidth=0.75)\n",
    "plt.xlabel(\"Age\")\n",
    "plt.ylabel(\"Frequency\")"
   ]
  },
  {
   "cell_type": "markdown",
   "id": "d847c06a",
   "metadata": {},
   "source": [
    "**Age** Distribution of employees\n",
    "Majority of employees are from 30 to 40 years of age"
   ]
  },
  {
   "cell_type": "code",
   "execution_count": 8,
   "id": "30a09394",
   "metadata": {},
   "outputs": [
    {
     "data": {
      "text/plain": [
       "Text(0, 0.5, 'Frequency')"
      ]
     },
     "execution_count": 8,
     "metadata": {},
     "output_type": "execute_result"
    },
    {
     "data": {
      "image/png": "[encoded data removed]",
      "text/plain": [
       "<Figure size 720x432 with 1 Axes>"
      ]
     },
     "metadata": {
      "needs_background": "light"
     },
     "output_type": "display_data"
    }
   ],
   "source": [
    "plt.figure(figsize=[10,6])\n",
    "bins_edges = np.arange(1, empdat[\"DistanceFromHome\"].max()+1, 1)\n",
    "plt.hist(data=empdat, x=\"DistanceFromHome\", bins=bins_edges, rwidth=0.75)\n",
    "plt.xlabel(\"Distance\")\n",
    "plt.ylabel(\"Frequency\")\n"
   ]
  },
  {
   "cell_type": "markdown",
   "id": "efd85faa",
   "metadata": {},
   "source": [
    "**Distance From Home** plot majority of the people are within 10"
   ]
  },
  {
   "cell_type": "code",
   "execution_count": 9,
   "id": "e1dcb6cd",
   "metadata": {},
   "outputs": [
    {
     "data": {
      "text/plain": [
       "Text(0, 0.5, 'Frequency')"
      ]
     },
     "execution_count": 9,
     "metadata": {},
     "output_type": "execute_result"
    },
    {
     "data": {
      "image/png": "[encoded data removed]",
      "text/plain": [
       "<Figure size 720x432 with 1 Axes>"
      ]
     },
     "metadata": {
      "needs_background": "light"
     },
     "output_type": "display_data"
    }
   ],
   "source": [
    "plt.figure(figsize=[10,6])\n",
    "bins_edges = np.arange(0, empdat[\"NumCompaniesWorked\"].max()+1, 1)\n",
    "plt.hist(data=empdat, x=\"NumCompaniesWorked\", bins=bins_edges,rwidth=0.9)\n",
    "plt.xlabel(\"Number of Companies Worked\")\n",
    "plt.ylabel(\"Frequency\")"
   ]
  },
  {
   "cell_type": "markdown",
   "id": "579b3c49",
   "metadata": {},
   "source": [
    "Majority of employees worked less than 2 companies regardless of the experience"
   ]
  },
  {
   "cell_type": "code",
   "execution_count": 10,
   "id": "572b284d",
   "metadata": {},
   "outputs": [
    {
     "data": {
      "text/plain": [
       "Text(0, 0.5, 'Frequeny')"
      ]
     },
     "execution_count": 10,
     "metadata": {},
     "output_type": "execute_result"
    },
    {
     "data": {
      "image/png": "[encoded data removed]",
      "text/plain": [
       "<Figure size 720x432 with 1 Axes>"
      ]
     },
     "metadata": {
      "needs_background": "light"
     },
     "output_type": "display_data"
    }
   ],
   "source": [
    "plt.figure(figsize=(10,6))\n",
    "bin_edges = np.arange(0, empdat['YearsAtCompany'].max()+1, 1)\n",
    "plt.hist(data=empdat , x='YearsAtCompany', bins=bin_edges,rwidth=.9)\n",
    "plt.xlabel('YearsAtCompany')\n",
    "plt.ylabel('Frequeny')"
   ]
  },
  {
   "cell_type": "markdown",
   "id": "3ba6d06d",
   "metadata": {},
   "source": [
    "By this plot large portion of employees are under 10 years of experience , there are some people who have around 35-40 years experience"
   ]
  },
  {
   "cell_type": "code",
   "execution_count": 11,
   "id": "a37a7309",
   "metadata": {},
   "outputs": [
    {
     "data": {
      "text/plain": [
       "Text(0, 0.5, 'Frequency')"
      ]
     },
     "execution_count": 11,
     "metadata": {},
     "output_type": "execute_result"
    },
    {
     "data": {
      "image/png": "[encoded data removed]",
      "text/plain": [
       "<Figure size 720x432 with 1 Axes>"
      ]
     },
     "metadata": {
      "needs_background": "light"
     },
     "output_type": "display_data"
    }
   ],
   "source": [
    "plt.figure(figsize=(10,6))\n",
    "plt.hist(data=empdat, x=\"MonthlyIncome\", rwidth=0.97)\n",
    "plt.xlabel(\"MonthlyIncome\")\n",
    "plt.ylabel(\"Frequency\")"
   ]
  },
  {
   "cell_type": "code",
   "execution_count": 12,
   "id": "f7905817",
   "metadata": {},
   "outputs": [
    {
     "data": {
      "text/plain": [
       "array([[<AxesSubplot:title={'center':'Age'}>,\n",
       "        <AxesSubplot:title={'center':'DailyRate'}>,\n",
       "        <AxesSubplot:title={'center':'DistanceFromHome'}>,\n",
       "        <AxesSubplot:title={'center':'Education'}>,\n",
       "        <AxesSubplot:title={'center':'EmployeeCount'}>],\n",
       "       [<AxesSubplot:title={'center':'EmployeeNumber'}>,\n",
       "        <AxesSubplot:title={'center':'EnvironmentSatisfaction'}>,\n",
       "        <AxesSubplot:title={'center':'HourlyRate'}>,\n",
       "        <AxesSubplot:title={'center':'JobInvolvement'}>,\n",
       "        <AxesSubplot:title={'center':'JobLevel'}>],\n",
       "       [<AxesSubplot:title={'center':'JobSatisfaction'}>,\n",
       "        <AxesSubplot:title={'center':'MonthlyIncome'}>,\n",
       "        <AxesSubplot:title={'center':'MonthlyRate'}>,\n",
       "        <AxesSubplot:title={'center':'NumCompaniesWorked'}>,\n",
       "        <AxesSubplot:title={'center':'PercentSalaryHike'}>],\n",
       "       [<AxesSubplot:title={'center':'PerformanceRating'}>,\n",
       "        <AxesSubplot:title={'center':'RelationshipSatisfaction'}>,\n",
       "        <AxesSubplot:title={'center':'StandardHours'}>,\n",
       "        <AxesSubplot:title={'center':'StockOptionLevel'}>,\n",
       "        <AxesSubplot:title={'center':'TotalWorkingYears'}>],\n",
       "       [<AxesSubplot:title={'center':'TrainingTimesLastYear'}>,\n",
       "        <AxesSubplot:title={'center':'WorkLifeBalance'}>,\n",
       "        <AxesSubplot:title={'center':'YearsAtCompany'}>,\n",
       "        <AxesSubplot:title={'center':'YearsInCurrentRole'}>,\n",
       "        <AxesSubplot:title={'center':'YearsSinceLastPromotion'}>],\n",
       "       [<AxesSubplot:title={'center':'YearsWithCurrManager'}>,\n",
       "        <AxesSubplot:>, <AxesSubplot:>, <AxesSubplot:>, <AxesSubplot:>]],\n",
       "      dtype=object)"
      ]
     },
     "execution_count": 12,
     "metadata": {},
     "output_type": "execute_result"
    },
    {
     "data": {
      "image/png": "[encoded data removed]",
      "text/plain": [
       "<Figure size 1440x1080 with 30 Axes>"
      ]
     },
     "metadata": {
      "needs_background": "light"
     },
     "output_type": "display_data"
    }
   ],
   "source": [
    "empdat.hist(figsize=\n",
    "[20,15])"
   ]
  },
  {
   "cell_type": "code",
   "execution_count": 13,
   "id": "e677d2a4",
   "metadata": {},
   "outputs": [
    {
     "data": {
      "text/plain": [
       "Age                          int64\n",
       "Attrition                   object\n",
       "BusinessTravel              object\n",
       "DailyRate                    int64\n",
       "Department                  object\n",
       "DistanceFromHome             int64\n",
       "Education                    int64\n",
       "EducationField              object\n",
       "EmployeeCount                int64\n",
       "EmployeeNumber               int64\n",
       "EnvironmentSatisfaction      int64\n",
       "Gender                      object\n",
       "HourlyRate                   int64\n",
       "JobInvolvement               int64\n",
       "JobLevel                     int64\n",
       "JobRole                     object\n",
       "JobSatisfaction              int64\n",
       "MaritalStatus               object\n",
       "MonthlyIncome                int64\n",
       "MonthlyRate                  int64\n",
       "NumCompaniesWorked           int64\n",
       "Over18                      object\n",
       "OverTime                    object\n",
       "PercentSalaryHike            int64\n",
       "PerformanceRating            int64\n",
       "RelationshipSatisfaction     int64\n",
       "StandardHours                int64\n",
       "StockOptionLevel             int64\n",
       "TotalWorkingYears            int64\n",
       "TrainingTimesLastYear        int64\n",
       "WorkLifeBalance              int64\n",
       "YearsAtCompany               int64\n",
       "YearsInCurrentRole           int64\n",
       "YearsSinceLastPromotion      int64\n",
       "YearsWithCurrManager         int64\n",
       "dtype: object"
      ]
     },
     "execution_count": 13,
     "metadata": {},
     "output_type": "execute_result"
    }
   ],
   "source": [
    "empdat.dtypes"
   ]
  },
  {
   "cell_type": "markdown",
   "id": "815bd28b",
   "metadata": {},
   "source": [
    "## Null Value(Missing Values) Check"
   ]
  },
  {
   "cell_type": "code",
   "execution_count": 14,
   "id": "da089c49",
   "metadata": {},
   "outputs": [
    {
     "data": {
      "text/plain": [
       "False"
      ]
     },
     "execution_count": 14,
     "metadata": {},
     "output_type": "execute_result"
    }
   ],
   "source": [
    "empdat.isnull().values.any()"
   ]
  },
  {
   "cell_type": "markdown",
   "id": "33cea289",
   "metadata": {},
   "source": [
    "## Outliers Check Using Boxplot"
   ]
  },
  {
   "cell_type": "code",
   "execution_count": 15,
   "id": "43ddf7bf",
   "metadata": {},
   "outputs": [
    {
     "data": {
      "text/plain": [
       "<AxesSubplot:xlabel='Department', ylabel='MonthlyIncome'>"
      ]
     },
     "execution_count": 15,
     "metadata": {},
     "output_type": "execute_result"
    },
    {
     "data": {
      "image/png": "[encoded data removed]",
      "text/plain": [
       "<Figure size 720x504 with 1 Axes>"
      ]
     },
     "metadata": {
      "needs_background": "light"
     },
     "output_type": "display_data"
    }
   ],
   "source": [
    "plt.figure(figsize=[10,7])\n",
    "sns.boxplot(data=empdat, x=\"Department\", y=\"MonthlyIncome\")"
   ]
  },
  {
   "cell_type": "markdown",
   "id": "b9195a3d",
   "metadata": {},
   "source": [
    "detected outliers in all three departments"
   ]
  },
  {
   "cell_type": "code",
   "execution_count": null,
   "id": "f1a4468d",
   "metadata": {},
   "outputs": [],
   "source": []
  },
  {
   "cell_type": "code",
   "execution_count": 16,
   "id": "78838015",
   "metadata": {},
   "outputs": [
    {
     "data": {
      "text/plain": [
       "<AxesSubplot:xlabel='EnvironmentSatisfaction', ylabel='Age'>"
      ]
     },
     "execution_count": 16,
     "metadata": {},
     "output_type": "execute_result"
    },
    {
     "data": {
      "image/png": "[encoded data removed]",
      "text/plain": [
       "<Figure size 432x288 with 1 Axes>"
      ]
     },
     "metadata": {
      "needs_background": "light"
     },
     "output_type": "display_data"
    }
   ],
   "source": [
    "sns.boxplot(x='EnvironmentSatisfaction', y='Age', data=empdat, palette='hls')"
   ]
  },
  {
   "cell_type": "code",
   "execution_count": 17,
   "id": "ba900dc6",
   "metadata": {},
   "outputs": [
    {
     "data": {
      "text/plain": [
       "<AxesSubplot:xlabel='Gender', ylabel='YearsAtCompany'>"
      ]
     },
     "execution_count": 17,
     "metadata": {},
     "output_type": "execute_result"
    },
    {
     "data": {
      "image/png": "[encoded data removed]",
      "text/plain": [
       "<Figure size 432x288 with 1 Axes>"
      ]
     },
     "metadata": {
      "needs_background": "light"
     },
     "output_type": "display_data"
    }
   ],
   "source": [
    "sns.boxplot(x='Gender', y='YearsAtCompany', data=empdat)"
   ]
  },
  {
   "cell_type": "code",
   "execution_count": 18,
   "id": "44075ba8",
   "metadata": {},
   "outputs": [
    {
     "data": {
      "text/plain": [
       "<AxesSubplot:xlabel='Education', ylabel='MonthlyIncome'>"
      ]
     },
     "execution_count": 18,
     "metadata": {},
     "output_type": "execute_result"
    },
    {
     "data": {
      "image/png": "[encoded data removed]",
      "text/plain": [
       "<Figure size 432x288 with 1 Axes>"
      ]
     },
     "metadata": {
      "needs_background": "light"
     },
     "output_type": "display_data"
    }
   ],
   "source": [
    "sns.boxplot(data=empdat, x=\"Education\", y=\"MonthlyIncome\")"
   ]
  },
  {
   "cell_type": "code",
   "execution_count": 19,
   "id": "eee0b187",
   "metadata": {},
   "outputs": [
    {
     "data": {
      "text/plain": [
       "<AxesSubplot:xlabel='Education', ylabel='YearsAtCompany'>"
      ]
     },
     "execution_count": 19,
     "metadata": {},
     "output_type": "execute_result"
    },
    {
     "data": {
      "image/png": "[encoded data removed]",
      "text/plain": [
       "<Figure size 432x288 with 1 Axes>"
      ]
     },
     "metadata": {
      "needs_background": "light"
     },
     "output_type": "display_data"
    }
   ],
   "source": [
    "sns.boxplot(data=empdat, x=\"Education\", y=\"YearsAtCompany\")"
   ]
  },
  {
   "cell_type": "code",
   "execution_count": 20,
   "id": "0dbbb1bc",
   "metadata": {},
   "outputs": [
    {
     "data": {
      "text/plain": [
       "<AxesSubplot:xlabel='EducationField', ylabel='MonthlyIncome'>"
      ]
     },
     "execution_count": 20,
     "metadata": {},
     "output_type": "execute_result"
    },
    {
     "data": {
      "image/png": "[encoded data removed]",
      "text/plain": [
       "<Figure size 720x576 with 1 Axes>"
      ]
     },
     "metadata": {
      "needs_background": "light"
     },
     "output_type": "display_data"
    }
   ],
   "source": [
    "plt.figure(figsize=[10,8])\n",
    "sns.boxplot(data=empdat, x=\"EducationField\", y=\"MonthlyIncome\")"
   ]
  },
  {
   "cell_type": "code",
   "execution_count": 21,
   "id": "d6c3e920",
   "metadata": {},
   "outputs": [
    {
     "data": {
      "text/plain": [
       "<AxesSubplot:xlabel='EducationField', ylabel='YearsAtCompany'>"
      ]
     },
     "execution_count": 21,
     "metadata": {},
     "output_type": "execute_result"
    },
    {
     "data": {
      "image/png": "[encoded data removed]",
      "text/plain": [
       "<Figure size 720x432 with 1 Axes>"
      ]
     },
     "metadata": {
      "needs_background": "light"
     },
     "output_type": "display_data"
    }
   ],
   "source": [
    "plt.figure(figsize=[10,6])\n",
    "sns.boxplot(data=empdat, x=\"EducationField\", y=\"YearsAtCompany\")"
   ]
  },
  {
   "cell_type": "code",
   "execution_count": 22,
   "id": "66e19fef",
   "metadata": {},
   "outputs": [
    {
     "data": {
      "text/plain": [
       "<AxesSubplot:xlabel='EnvironmentSatisfaction', ylabel='MonthlyIncome'>"
      ]
     },
     "execution_count": 22,
     "metadata": {},
     "output_type": "execute_result"
    },
    {
     "data": {
      "image/png": "[encoded data removed]",
      "text/plain": [
       "<Figure size 720x432 with 1 Axes>"
      ]
     },
     "metadata": {
      "needs_background": "light"
     },
     "output_type": "display_data"
    }
   ],
   "source": [
    "plt.figure(figsize=[10,6])\n",
    "sns.boxplot(data=empdat, x=\"EnvironmentSatisfaction\", y=\"MonthlyIncome\")"
   ]
  },
  {
   "cell_type": "code",
   "execution_count": 23,
   "id": "8ca615de",
   "metadata": {},
   "outputs": [
    {
     "data": {
      "text/plain": [
       "<AxesSubplot:xlabel='EnvironmentSatisfaction', ylabel='YearsAtCompany'>"
      ]
     },
     "execution_count": 23,
     "metadata": {},
     "output_type": "execute_result"
    },
    {
     "data": {
      "image/png": "[encoded data removed]",
      "text/plain": [
       "<Figure size 720x432 with 1 Axes>"
      ]
     },
     "metadata": {
      "needs_background": "light"
     },
     "output_type": "display_data"
    }
   ],
   "source": [
    "plt.figure(figsize=[10,6])\n",
    "sns.boxplot(data=empdat, x=\"EnvironmentSatisfaction\", y=\"YearsAtCompany\")"
   ]
  },
  {
   "cell_type": "code",
   "execution_count": 24,
   "id": "9251b154",
   "metadata": {},
   "outputs": [
    {
     "data": {
      "text/plain": [
       "<AxesSubplot:xlabel='JobSatisfaction', ylabel='MonthlyIncome'>"
      ]
     },
     "execution_count": 24,
     "metadata": {},
     "output_type": "execute_result"
    },
    {
     "data": {
      "image/png": "[encoded data removed]",
      "text/plain": [
       "<Figure size 720x432 with 1 Axes>"
      ]
     },
     "metadata": {
      "needs_background": "light"
     },
     "output_type": "display_data"
    }
   ],
   "source": [
    "plt.figure(figsize=[10,6])\n",
    "sns.boxplot(data=empdat, x=\"JobSatisfaction\", y=\"MonthlyIncome\")"
   ]
  },
  {
   "cell_type": "code",
   "execution_count": 25,
   "id": "75d91e62",
   "metadata": {},
   "outputs": [
    {
     "data": {
      "text/plain": [
       "<AxesSubplot:xlabel='MaritalStatus', ylabel='MonthlyIncome'>"
      ]
     },
     "execution_count": 25,
     "metadata": {},
     "output_type": "execute_result"
    },
    {
     "data": {
      "image/png": "[encoded data removed]",
      "text/plain": [
       "<Figure size 720x432 with 1 Axes>"
      ]
     },
     "metadata": {
      "needs_background": "light"
     },
     "output_type": "display_data"
    }
   ],
   "source": [
    "plt.figure(figsize=[10,6])\n",
    "sns.boxplot(data=empdat, x=\"MaritalStatus\", y=\"MonthlyIncome\")"
   ]
  },
  {
   "cell_type": "code",
   "execution_count": 26,
   "id": "da9156b5",
   "metadata": {},
   "outputs": [
    {
     "data": {
      "text/plain": [
       "<AxesSubplot:xlabel='MaritalStatus', ylabel='MonthlyIncome'>"
      ]
     },
     "execution_count": 26,
     "metadata": {},
     "output_type": "execute_result"
    },
    {
     "data": {
      "image/png": "[encoded data removed]",
      "text/plain": [
       "<Figure size 720x432 with 1 Axes>"
      ]
     },
     "metadata": {
      "needs_background": "light"
     },
     "output_type": "display_data"
    }
   ],
   "source": [
    "plt.figure(figsize=[10,6])\n",
    "sns.boxplot(data=empdat, x=\"MaritalStatus\", y=\"MonthlyIncome\")"
   ]
  },
  {
   "cell_type": "code",
   "execution_count": 27,
   "id": "93ab7d9b",
   "metadata": {},
   "outputs": [
    {
     "data": {
      "text/plain": [
       "<AxesSubplot:xlabel='MaritalStatus', ylabel='YearsAtCompany'>"
      ]
     },
     "execution_count": 27,
     "metadata": {},
     "output_type": "execute_result"
    },
    {
     "data": {
      "image/png": "[encoded data removed]",
      "text/plain": [
       "<Figure size 720x432 with 1 Axes>"
      ]
     },
     "metadata": {
      "needs_background": "light"
     },
     "output_type": "display_data"
    }
   ],
   "source": [
    "plt.figure(figsize=[10,6])\n",
    "sns.boxplot(data=empdat, x=\"MaritalStatus\", y=\"YearsAtCompany\")"
   ]
  },
  {
   "cell_type": "code",
   "execution_count": 28,
   "id": "814b49d7",
   "metadata": {},
   "outputs": [
    {
     "data": {
      "text/plain": [
       "<AxesSubplot:xlabel='WorkLifeBalance', ylabel='MonthlyIncome'>"
      ]
     },
     "execution_count": 28,
     "metadata": {},
     "output_type": "execute_result"
    },
    {
     "data": {
      "image/png": "[encoded data removed]",
      "text/plain": [
       "<Figure size 720x432 with 1 Axes>"
      ]
     },
     "metadata": {
      "needs_background": "light"
     },
     "output_type": "display_data"
    }
   ],
   "source": [
    "plt.figure(figsize=[10,6])\n",
    "sns.boxplot(data=empdat, x=\"WorkLifeBalance\", y=\"MonthlyIncome\")"
   ]
  },
  {
   "cell_type": "code",
   "execution_count": 29,
   "id": "c3be4569",
   "metadata": {},
   "outputs": [
    {
     "data": {
      "text/plain": [
       "<AxesSubplot:xlabel='WorkLifeBalance', ylabel='YearsAtCompany'>"
      ]
     },
     "execution_count": 29,
     "metadata": {},
     "output_type": "execute_result"
    },
    {
     "data": {
      "image/png": "[encoded data removed]",
      "text/plain": [
       "<Figure size 720x432 with 1 Axes>"
      ]
     },
     "metadata": {
      "needs_background": "light"
     },
     "output_type": "display_data"
    }
   ],
   "source": [
    "plt.figure(figsize=[10,6])\n",
    "sns.boxplot(data=empdat, x=\"WorkLifeBalance\", y=\"YearsAtCompany\")"
   ]
  },
  {
   "cell_type": "code",
   "execution_count": 30,
   "id": "67f7c0d7",
   "metadata": {},
   "outputs": [
    {
     "data": {
      "text/plain": [
       "{'whiskers': [<matplotlib.lines.Line2D at 0x7f97ca28af10>,\n",
       "  <matplotlib.lines.Line2D at 0x7f97ca098430>],\n",
       " 'caps': [<matplotlib.lines.Line2D at 0x7f97ca098d30>,\n",
       "  <matplotlib.lines.Line2D at 0x7f97ca33c580>],\n",
       " 'boxes': [<matplotlib.lines.Line2D at 0x7f97ca28aa60>],\n",
       " 'medians': [<matplotlib.lines.Line2D at 0x7f97ca33c0a0>],\n",
       " 'fliers': [<matplotlib.lines.Line2D at 0x7f97ca403790>],\n",
       " 'means': []}"
      ]
     },
     "execution_count": 30,
     "metadata": {},
     "output_type": "execute_result"
    },
    {
     "data": {
      "image/png": "[encoded data removed]",
      "text/plain": [
       "<Figure size 432x288 with 1 Axes>"
      ]
     },
     "metadata": {
      "needs_background": "light"
     },
     "output_type": "display_data"
    }
   ],
   "source": [
    "plt.boxplot(empdat['DistanceFromHome'])"
   ]
  },
  {
   "cell_type": "code",
   "execution_count": 31,
   "id": "9489fbea",
   "metadata": {},
   "outputs": [
    {
     "data": {
      "text/plain": [
       "count    2940.000000\n",
       "mean        9.192517\n",
       "std         8.105485\n",
       "min         1.000000\n",
       "25%         2.000000\n",
       "50%         7.000000\n",
       "75%        14.000000\n",
       "max        29.000000\n",
       "Name: DistanceFromHome, dtype: float64"
      ]
     },
     "execution_count": 31,
     "metadata": {},
     "output_type": "execute_result"
    }
   ],
   "source": [
    "empdat['DistanceFromHome'].describe()"
   ]
  },
  {
   "cell_type": "code",
   "execution_count": 32,
   "id": "5b6f9f16",
   "metadata": {},
   "outputs": [],
   "source": [
    "dfh_IQR = empdat.DistanceFromHome.quantile(0.75)-empdat.DistanceFromHome.quantile(0.25)"
   ]
  },
  {
   "cell_type": "code",
   "execution_count": 33,
   "id": "8a7356c1",
   "metadata": {},
   "outputs": [
    {
     "name": "stdout",
     "output_type": "stream",
     "text": [
      "-16.0\n",
      "32.0\n"
     ]
    }
   ],
   "source": [
    "lower_bridge = empdat[\"DistanceFromHome\"].quantile(0.25)-(dfh_IQR*1.5)\n",
    "upper_bridge = empdat[\"DistanceFromHome\"].quantile(0.75)+(dfh_IQR*1.5)\n",
    "print(lower_bridge)\n",
    "print(upper_bridge)"
   ]
  },
  {
   "cell_type": "markdown",
   "id": "b58c3eef",
   "metadata": {},
   "source": [
    "Here we can see that no outliers in DistanceFromHome feature"
   ]
  },
  {
   "cell_type": "code",
   "execution_count": 34,
   "id": "97aff8c5",
   "metadata": {},
   "outputs": [
    {
     "data": {
      "text/plain": [
       "{'whiskers': [<matplotlib.lines.Line2D at 0x7f97c9c85f70>,\n",
       "  <matplotlib.lines.Line2D at 0x7f97c9c93310>],\n",
       " 'caps': [<matplotlib.lines.Line2D at 0x7f97c9c93670>,\n",
       "  <matplotlib.lines.Line2D at 0x7f97c9c939d0>],\n",
       " 'boxes': [<matplotlib.lines.Line2D at 0x7f97c9c85c10>],\n",
       " 'medians': [<matplotlib.lines.Line2D at 0x7f97c9c93d30>],\n",
       " 'fliers': [<matplotlib.lines.Line2D at 0x7f97c9c9f0d0>],\n",
       " 'means': []}"
      ]
     },
     "execution_count": 34,
     "metadata": {},
     "output_type": "execute_result"
    },
    {
     "data": {
      "image/png": "[encoded data removed]",
      "text/plain": [
       "<Figure size 432x288 with 1 Axes>"
      ]
     },
     "metadata": {
      "needs_background": "light"
     },
     "output_type": "display_data"
    }
   ],
   "source": [
    "plt.boxplot(empdat['Age'])"
   ]
  },
  {
   "cell_type": "code",
   "execution_count": 35,
   "id": "ddadd4f5",
   "metadata": {},
   "outputs": [
    {
     "data": {
      "text/plain": [
       "count    2940.000000\n",
       "mean       36.923810\n",
       "std         9.133819\n",
       "min        18.000000\n",
       "25%        30.000000\n",
       "50%        36.000000\n",
       "75%        43.000000\n",
       "max        60.000000\n",
       "Name: Age, dtype: float64"
      ]
     },
     "execution_count": 35,
     "metadata": {},
     "output_type": "execute_result"
    }
   ],
   "source": [
    "empdat['Age'].describe()"
   ]
  },
  {
   "cell_type": "code",
   "execution_count": 36,
   "id": "697aa5a8",
   "metadata": {},
   "outputs": [
    {
     "name": "stdout",
     "output_type": "stream",
     "text": [
      "9.52235194379459\n",
      "64.32526710382446\n"
     ]
    }
   ],
   "source": [
    "upper_boundary = empdat[\"Age\"].mean()+3*empdat[\"Age\"].std()\n",
    "lower_boundary = empdat[\"Age\"].mean()-3*empdat[\"Age\"].std()\n",
    "print(lower_boundary)\n",
    "print(upper_boundary)"
   ]
  },
  {
   "cell_type": "markdown",
   "id": "6563efa7",
   "metadata": {},
   "source": [
    "No Outliers"
   ]
  },
  {
   "cell_type": "code",
   "execution_count": 37,
   "id": "01060808",
   "metadata": {},
   "outputs": [
    {
     "data": {
      "text/plain": [
       "{'whiskers': [<matplotlib.lines.Line2D at 0x7f97c9c6e430>,\n",
       "  <matplotlib.lines.Line2D at 0x7f97c9c6e790>],\n",
       " 'caps': [<matplotlib.lines.Line2D at 0x7f97c9c6eaf0>,\n",
       "  <matplotlib.lines.Line2D at 0x7f97c9c6ee50>],\n",
       " 'boxes': [<matplotlib.lines.Line2D at 0x7f97c9c6e0d0>],\n",
       " 'medians': [<matplotlib.lines.Line2D at 0x7f97c9bfb1f0>],\n",
       " 'fliers': [<matplotlib.lines.Line2D at 0x7f97c9bfb550>],\n",
       " 'means': []}"
      ]
     },
     "execution_count": 37,
     "metadata": {},
     "output_type": "execute_result"
    },
    {
     "data": {
      "image/png": "[encoded data removed]",
      "text/plain": [
       "<Figure size 432x288 with 1 Axes>"
      ]
     },
     "metadata": {
      "needs_background": "light"
     },
     "output_type": "display_data"
    }
   ],
   "source": [
    "plt.boxplot(empdat['MonthlyIncome'])"
   ]
  },
  {
   "cell_type": "code",
   "execution_count": 38,
   "id": "616650cd",
   "metadata": {},
   "outputs": [
    {
     "data": {
      "text/plain": [
       "count     2940.000000\n",
       "mean      6502.931293\n",
       "std       4707.155770\n",
       "min       1009.000000\n",
       "25%       2911.000000\n",
       "50%       4919.000000\n",
       "75%       8380.000000\n",
       "max      19999.000000\n",
       "Name: MonthlyIncome, dtype: float64"
      ]
     },
     "execution_count": 38,
     "metadata": {},
     "output_type": "execute_result"
    }
   ],
   "source": [
    "empdat['MonthlyIncome'].describe()"
   ]
  },
  {
   "cell_type": "code",
   "execution_count": 39,
   "id": "51074424",
   "metadata": {},
   "outputs": [],
   "source": [
    "mi_IQR = empdat.MonthlyIncome.quantile(0.75)-empdat.MonthlyIncome.quantile(0.25)"
   ]
  },
  {
   "cell_type": "code",
   "execution_count": 40,
   "id": "8c28ba87",
   "metadata": {},
   "outputs": [
    {
     "name": "stdout",
     "output_type": "stream",
     "text": [
      "-5292.5\n",
      "16583.5\n"
     ]
    }
   ],
   "source": [
    "lower_bridge = empdat[\"MonthlyIncome\"].quantile(0.25)-(mi_IQR*1.5)\n",
    "upper_bridge = empdat[\"MonthlyIncome\"].quantile(0.75)+(mi_IQR*1.5)\n",
    "print(lower_bridge)\n",
    "print(upper_bridge)"
   ]
  },
  {
   "cell_type": "code",
   "execution_count": 41,
   "id": "94a28f82",
   "metadata": {},
   "outputs": [
    {
     "data": {
      "text/plain": [
       "228"
      ]
     },
     "execution_count": 41,
     "metadata": {},
     "output_type": "execute_result"
    }
   ],
   "source": [
    "empdat.loc[empdat[\"MonthlyIncome\"]>16583].count()[2]"
   ]
  },
  {
   "cell_type": "code",
   "execution_count": 42,
   "id": "2c3ec7a5",
   "metadata": {},
   "outputs": [],
   "source": [
    "# we can take income above 16583 to remove outliers\n",
    "empdat.loc[empdat[\"MonthlyIncome\"]>16583, \"MonthlyIncome\"] = 16583"
   ]
  },
  {
   "cell_type": "code",
   "execution_count": 43,
   "id": "df54ef05",
   "metadata": {},
   "outputs": [
    {
     "data": {
      "text/plain": [
       "{'whiskers': [<matplotlib.lines.Line2D at 0x7f97c8339af0>,\n",
       "  <matplotlib.lines.Line2D at 0x7f97c8339e50>],\n",
       " 'caps': [<matplotlib.lines.Line2D at 0x7f97c83441f0>,\n",
       "  <matplotlib.lines.Line2D at 0x7f97c8344580>],\n",
       " 'boxes': [<matplotlib.lines.Line2D at 0x7f97c8339790>],\n",
       " 'medians': [<matplotlib.lines.Line2D at 0x7f97c83448e0>],\n",
       " 'fliers': [<matplotlib.lines.Line2D at 0x7f97c8344c40>],\n",
       " 'means': []}"
      ]
     },
     "execution_count": 43,
     "metadata": {},
     "output_type": "execute_result"
    },
    {
     "data": {
      "image/png": "[encoded data removed]",
      "text/plain": [
       "<Figure size 432x288 with 1 Axes>"
      ]
     },
     "metadata": {
      "needs_background": "light"
     },
     "output_type": "display_data"
    }
   ],
   "source": [
    "plt.boxplot(empdat['NumCompaniesWorked'])"
   ]
  },
  {
   "cell_type": "code",
   "execution_count": 44,
   "id": "32f65b31",
   "metadata": {},
   "outputs": [
    {
     "data": {
      "text/plain": [
       "count    2940.000000\n",
       "mean        2.693197\n",
       "std         2.497584\n",
       "min         0.000000\n",
       "25%         1.000000\n",
       "50%         2.000000\n",
       "75%         4.000000\n",
       "max         9.000000\n",
       "Name: NumCompaniesWorked, dtype: float64"
      ]
     },
     "execution_count": 44,
     "metadata": {},
     "output_type": "execute_result"
    }
   ],
   "source": [
    "empdat['NumCompaniesWorked'].describe()"
   ]
  },
  {
   "cell_type": "code",
   "execution_count": 45,
   "id": "994bc223",
   "metadata": {},
   "outputs": [],
   "source": [
    "ncw_IQR = empdat.NumCompaniesWorked.quantile(0.75)-empdat.NumCompaniesWorked.quantile(0.25)"
   ]
  },
  {
   "cell_type": "code",
   "execution_count": 46,
   "id": "7bf46f8c",
   "metadata": {},
   "outputs": [
    {
     "name": "stdout",
     "output_type": "stream",
     "text": [
      "-3.5\n",
      "8.5\n"
     ]
    }
   ],
   "source": [
    "lower_bridge = empdat[\"NumCompaniesWorked\"].quantile(0.25)-(ncw_IQR*1.5)\n",
    "upper_bridge = empdat[\"NumCompaniesWorked\"].quantile(0.75)+(ncw_IQR*1.5)\n",
    "print(lower_bridge)\n",
    "print(upper_bridge)"
   ]
  },
  {
   "cell_type": "code",
   "execution_count": 47,
   "id": "95a98453",
   "metadata": {},
   "outputs": [],
   "source": [
    "### We can take NumCompaniesWorked above 8.5 to be 8.5\n",
    "empdat.loc[empdat[\"NumCompaniesWorked\"]>8.5, \"NumCompaniesWorked\"] = 8.5"
   ]
  },
  {
   "cell_type": "code",
   "execution_count": 48,
   "id": "ef8f55d5",
   "metadata": {},
   "outputs": [
    {
     "data": {
      "text/plain": [
       "{'whiskers': [<matplotlib.lines.Line2D at 0x7f97c8320310>,\n",
       "  <matplotlib.lines.Line2D at 0x7f97c8320670>],\n",
       " 'caps': [<matplotlib.lines.Line2D at 0x7f97c83209d0>,\n",
       "  <matplotlib.lines.Line2D at 0x7f97c8320d30>],\n",
       " 'boxes': [<matplotlib.lines.Line2D at 0x7f97c8310f70>],\n",
       " 'medians': [<matplotlib.lines.Line2D at 0x7f97c832d0d0>],\n",
       " 'fliers': [<matplotlib.lines.Line2D at 0x7f97c832d430>],\n",
       " 'means': []}"
      ]
     },
     "execution_count": 48,
     "metadata": {},
     "output_type": "execute_result"
    },
    {
     "data": {
      "image/png": "[encoded data removed]",
      "text/plain": [
       "<Figure size 432x288 with 1 Axes>"
      ]
     },
     "metadata": {
      "needs_background": "light"
     },
     "output_type": "display_data"
    }
   ],
   "source": [
    "plt.boxplot(empdat['YearsAtCompany'])"
   ]
  },
  {
   "cell_type": "code",
   "execution_count": 49,
   "id": "9e65415b",
   "metadata": {},
   "outputs": [
    {
     "data": {
      "text/plain": [
       "count    2940.000000\n",
       "mean        7.008163\n",
       "std         6.125483\n",
       "min         0.000000\n",
       "25%         3.000000\n",
       "50%         5.000000\n",
       "75%         9.000000\n",
       "max        40.000000\n",
       "Name: YearsAtCompany, dtype: float64"
      ]
     },
     "execution_count": 49,
     "metadata": {},
     "output_type": "execute_result"
    }
   ],
   "source": [
    "empdat['YearsAtCompany'].describe()"
   ]
  },
  {
   "cell_type": "code",
   "execution_count": 50,
   "id": "3a0cca2f",
   "metadata": {},
   "outputs": [],
   "source": [
    "yac_IQR = empdat.YearsAtCompany.quantile(0.75)-empdat.YearsAtCompany.quantile(0.25)"
   ]
  },
  {
   "cell_type": "code",
   "execution_count": 51,
   "id": "7a91c9b3",
   "metadata": {},
   "outputs": [
    {
     "name": "stdout",
     "output_type": "stream",
     "text": [
      "-6.0\n",
      "18.0\n"
     ]
    }
   ],
   "source": [
    "lower_bridge = empdat[\"YearsAtCompany\"].quantile(0.25)-(yac_IQR*1.5)\n",
    "upper_bridge = empdat[\"YearsAtCompany\"].quantile(0.75)+(yac_IQR*1.5)\n",
    "print(lower_bridge)\n",
    "print(upper_bridge)"
   ]
  },
  {
   "cell_type": "code",
   "execution_count": 52,
   "id": "5e13123a",
   "metadata": {},
   "outputs": [
    {
     "data": {
      "text/plain": [
       "208"
      ]
     },
     "execution_count": 52,
     "metadata": {},
     "output_type": "execute_result"
    }
   ],
   "source": [
    "empdat.loc[empdat[\"YearsAtCompany\"]>18].count()[-4]"
   ]
  },
  {
   "cell_type": "code",
   "execution_count": 53,
   "id": "0e2fbb29",
   "metadata": {},
   "outputs": [],
   "source": [
    "### We can replace values in YearsAtCompany above 18 to be 18.\n",
    "empdat.loc[empdat[\"YearsAtCompany\"]>18, \"YearsAtCompany\"] = 18"
   ]
  },
  {
   "cell_type": "markdown",
   "id": "f69bace9",
   "metadata": {},
   "source": [
    "## Checking for Variance"
   ]
  },
  {
   "cell_type": "code",
   "execution_count": 54,
   "id": "960e882b",
   "metadata": {},
   "outputs": [
    {
     "data": {
      "text/plain": [
       "Age                         8.342665e+01\n",
       "DailyRate                   1.627642e+05\n",
       "DistanceFromHome            6.569889e+01\n",
       "Education                   1.048557e+00\n",
       "EmployeeCount               1.233015e-32\n",
       "EmployeeNumber              7.205450e+05\n",
       "EnvironmentSatisfaction     1.194422e+00\n",
       "HourlyRate                  4.131450e+02\n",
       "JobInvolvement              5.061470e-01\n",
       "JobLevel                    1.224899e+00\n",
       "JobSatisfaction             1.215856e+00\n",
       "MonthlyIncome               1.894834e+07\n",
       "MonthlyRate                 5.064564e+07\n",
       "NumCompaniesWorked          6.023286e+00\n",
       "PercentSalaryHike           1.339059e+01\n",
       "PerformanceRating           1.301493e-01\n",
       "RelationshipSatisfaction    1.168615e+00\n",
       "StandardHours               0.000000e+00\n",
       "StockOptionLevel            7.257876e-01\n",
       "TotalWorkingYears           6.051996e+01\n",
       "TrainingTimesLastYear       1.661653e+00\n",
       "WorkLifeBalance             4.989383e-01\n",
       "YearsAtCompany              2.488951e+01\n",
       "YearsInCurrentRole          1.312266e+01\n",
       "YearsSinceLastPromotion     1.038052e+01\n",
       "YearsWithCurrManager        1.272726e+01\n",
       "dtype: float64"
      ]
     },
     "execution_count": 54,
     "metadata": {},
     "output_type": "execute_result"
    }
   ],
   "source": [
    "empdat.var()"
   ]
  },
  {
   "cell_type": "code",
   "execution_count": 55,
   "id": "80e89545",
   "metadata": {},
   "outputs": [],
   "source": [
    "empdat = empdat.drop('StandardHours', 1)"
   ]
  },
  {
   "cell_type": "code",
   "execution_count": 56,
   "id": "1ed2734c",
   "metadata": {},
   "outputs": [
    {
     "data": {
      "text/plain": [
       "Age                           int64\n",
       "Attrition                    object\n",
       "BusinessTravel               object\n",
       "DailyRate                     int64\n",
       "Department                   object\n",
       "DistanceFromHome              int64\n",
       "Education                     int64\n",
       "EducationField               object\n",
       "EmployeeCount                 int64\n",
       "EmployeeNumber                int64\n",
       "EnvironmentSatisfaction       int64\n",
       "Gender                       object\n",
       "HourlyRate                    int64\n",
       "JobInvolvement                int64\n",
       "JobLevel                      int64\n",
       "JobRole                      object\n",
       "JobSatisfaction               int64\n",
       "MaritalStatus                object\n",
       "MonthlyIncome                 int64\n",
       "MonthlyRate                   int64\n",
       "NumCompaniesWorked          float64\n",
       "Over18                       object\n",
       "OverTime                     object\n",
       "PercentSalaryHike             int64\n",
       "PerformanceRating             int64\n",
       "RelationshipSatisfaction      int64\n",
       "StockOptionLevel              int64\n",
       "TotalWorkingYears             int64\n",
       "TrainingTimesLastYear         int64\n",
       "WorkLifeBalance               int64\n",
       "YearsAtCompany                int64\n",
       "YearsInCurrentRole            int64\n",
       "YearsSinceLastPromotion       int64\n",
       "YearsWithCurrManager          int64\n",
       "dtype: object"
      ]
     },
     "execution_count": 56,
     "metadata": {},
     "output_type": "execute_result"
    }
   ],
   "source": [
    "empdat.dtypes"
   ]
  },
  {
   "cell_type": "markdown",
   "id": "f9ba681b",
   "metadata": {},
   "source": [
    "### count of the number of employee attrition"
   ]
  },
  {
   "cell_type": "code",
   "execution_count": 57,
   "id": "d5ae83e8",
   "metadata": {},
   "outputs": [
    {
     "data": {
      "text/plain": [
       "No     2466\n",
       "Yes     474\n",
       "Name: Attrition, dtype: int64"
      ]
     },
     "execution_count": 57,
     "metadata": {},
     "output_type": "execute_result"
    }
   ],
   "source": [
    "empdat['Attrition'].value_counts()\n"
   ]
  },
  {
   "cell_type": "code",
   "execution_count": 58,
   "id": "e7b0b89a",
   "metadata": {},
   "outputs": [
    {
     "data": {
      "text/plain": [
       "<AxesSubplot:xlabel='Attrition', ylabel='count'>"
      ]
     },
     "execution_count": 58,
     "metadata": {},
     "output_type": "execute_result"
    },
    {
     "data": {
      "image/png": "[encoded data removed]",
      "text/plain": [
       "<Figure size 432x288 with 1 Axes>"
      ]
     },
     "metadata": {
      "needs_background": "light"
     },
     "output_type": "display_data"
    }
   ],
   "source": [
    "sns.countplot(empdat['Attrition'])"
   ]
  },
  {
   "cell_type": "code",
   "execution_count": 59,
   "id": "92ee0076",
   "metadata": {},
   "outputs": [
    {
     "data": {
      "image/png": "[encoded data removed]",
      "text/plain": [
       "<Figure size 1152x576 with 1 Axes>"
      ]
     },
     "metadata": {
      "needs_background": "light"
     },
     "output_type": "display_data"
    }
   ],
   "source": [
    "fig,ax = plt.subplots(figsize=(16,8))\n",
    "#ax = axis\n",
    "sns.countplot(x='Age', hue='Attrition', data = empdat, ax = ax);\n"
   ]
  },
  {
   "cell_type": "code",
   "execution_count": 60,
   "id": "568f6ae6",
   "metadata": {},
   "outputs": [
    {
     "name": "stdout",
     "output_type": "stream",
     "text": [
      "Attrition  : ['Yes' 'No']\n",
      "No     2466\n",
      "Yes     474\n",
      "Name: Attrition, dtype: int64\n",
      "****************************************************************************************************\n",
      "BusinessTravel  : ['Travel_Rarely' 'Travel_Frequently' 'Non-Travel']\n",
      "Travel_Rarely        2086\n",
      "Travel_Frequently     554\n",
      "Non-Travel            300\n",
      "Name: BusinessTravel, dtype: int64\n",
      "****************************************************************************************************\n",
      "Department  : ['Sales' 'Research & Development' 'Human Resources']\n",
      "Research & Development    1922\n",
      "Sales                      892\n",
      "Human Resources            126\n",
      "Name: Department, dtype: int64\n",
      "****************************************************************************************************\n",
      "EducationField  : ['Life Sciences' 'Other' 'Medical' 'Marketing' 'Technical Degree'\n",
      " 'Human Resources']\n",
      "Life Sciences       1212\n",
      "Medical              928\n",
      "Marketing            318\n",
      "Technical Degree     264\n",
      "Other                164\n",
      "Human Resources       54\n",
      "Name: EducationField, dtype: int64\n",
      "****************************************************************************************************\n",
      "Gender  : ['Female' 'Male']\n",
      "Male      1764\n",
      "Female    1176\n",
      "Name: Gender, dtype: int64\n",
      "****************************************************************************************************\n",
      "JobRole  : ['Sales Executive' 'Research Scientist' 'Laboratory Technician'\n",
      " 'Manufacturing Director' 'Healthcare Representative' 'Manager'\n",
      " 'Sales Representative' 'Research Director' 'Human Resources']\n",
      "Sales Executive              652\n",
      "Research Scientist           584\n",
      "Laboratory Technician        518\n",
      "Manufacturing Director       290\n",
      "Healthcare Representative    262\n",
      "Manager                      204\n",
      "Sales Representative         166\n",
      "Research Director            160\n",
      "Human Resources              104\n",
      "Name: JobRole, dtype: int64\n",
      "****************************************************************************************************\n",
      "MaritalStatus  : ['Single' 'Married' 'Divorced']\n",
      "Married     1346\n",
      "Single       940\n",
      "Divorced     654\n",
      "Name: MaritalStatus, dtype: int64\n",
      "****************************************************************************************************\n",
      "Over18  : ['Y']\n",
      "Y    2940\n",
      "Name: Over18, dtype: int64\n",
      "****************************************************************************************************\n",
      "OverTime  : ['Yes' 'No']\n",
      "No     2108\n",
      "Yes     832\n",
      "Name: OverTime, dtype: int64\n",
      "****************************************************************************************************\n"
     ]
    }
   ],
   "source": [
    "for col in empdat.columns:\n",
    "    if empdat[col].dtype == object:\n",
    "        print(str(col),' :', str(empdat[col].unique()))\n",
    "        print(empdat[col].value_counts())\n",
    "        print('*'*100)"
   ]
  },
  {
   "cell_type": "markdown",
   "id": "154ca7af",
   "metadata": {},
   "source": [
    "### Removing the unneeded columns"
   ]
  },
  {
   "cell_type": "code",
   "execution_count": 61,
   "id": "e82dcc58",
   "metadata": {},
   "outputs": [],
   "source": [
    "# empdat = empdat.drop('StandardHours',1)\n",
    "empdat = empdat.drop('Over18',1)\n",
    "empdat = empdat.drop('EmployeeNumber',1)\n",
    "empdat = empdat.drop('StockOptionLevel', 1)"
   ]
  },
  {
   "cell_type": "code",
   "execution_count": 62,
   "id": "a00453c5",
   "metadata": {},
   "outputs": [],
   "source": [
    "empdat = empdat.drop('EmployeeCount',1)\n"
   ]
  },
  {
   "cell_type": "code",
   "execution_count": 63,
   "id": "da471370",
   "metadata": {},
   "outputs": [],
   "source": [
    "# empdat = empdat.drop('StandardHours',1)"
   ]
  },
  {
   "cell_type": "markdown",
   "id": "3fe85a0e",
   "metadata": {},
   "source": [
    "### Explain the correlation by heatmap"
   ]
  },
  {
   "cell_type": "code",
   "execution_count": 64,
   "id": "1799823c",
   "metadata": {},
   "outputs": [
    {
     "data": {
      "text/plain": [
       "<AxesSubplot:>"
      ]
     },
     "execution_count": 64,
     "metadata": {},
     "output_type": "execute_result"
    },
    {
     "data": {
      "image/png": "[encoded data removed]",
      "text/plain": [
       "<Figure size 1152x1152 with 2 Axes>"
      ]
     },
     "metadata": {
      "needs_background": "light"
     },
     "output_type": "display_data"
    }
   ],
   "source": [
    "plt.figure(figsize=(16,16))\n",
    "sns.heatmap(empdat.corr(), annot=True)"
   ]
  },
  {
   "cell_type": "markdown",
   "id": "58226cd0",
   "metadata": {},
   "source": [
    "## Dropping the correlated columns"
   ]
  },
  {
   "cell_type": "code",
   "execution_count": 65,
   "id": "164d81b0",
   "metadata": {},
   "outputs": [
    {
     "name": "stdout",
     "output_type": "stream",
     "text": [
      "                               Age  DailyRate  DistanceFromHome  Education  \\\n",
      "Age                       1.000000   0.010661         -0.001686   0.208034   \n",
      "DailyRate                 0.010661   1.000000         -0.004985  -0.016806   \n",
      "DistanceFromHome         -0.001686  -0.004985          1.000000   0.021042   \n",
      "Education                 0.208034  -0.016806          0.021042   1.000000   \n",
      "EnvironmentSatisfaction   0.010146   0.018355         -0.016075  -0.027128   \n",
      "HourlyRate                0.024287   0.023381          0.031131   0.016775   \n",
      "JobInvolvement            0.029820   0.046135          0.008783   0.042438   \n",
      "JobLevel                  0.509604   0.002966          0.005303   0.101589   \n",
      "JobSatisfaction          -0.004892   0.030571         -0.003669  -0.011296   \n",
      "MonthlyIncome             0.499692   0.008438         -0.008716   0.100748   \n",
      "MonthlyRate               0.028051  -0.032182          0.027473  -0.026084   \n",
      "NumCompaniesWorked        0.302635   0.038071         -0.028313   0.126039   \n",
      "PercentSalaryHike         0.003634   0.022704          0.040235  -0.011111   \n",
      "PerformanceRating         0.001904   0.000473          0.027110  -0.024539   \n",
      "RelationshipSatisfaction  0.053535   0.007846          0.006557  -0.009118   \n",
      "TotalWorkingYears         0.680381   0.014515          0.004628   0.148280   \n",
      "TrainingTimesLastYear    -0.019621   0.002453         -0.036942  -0.025100   \n",
      "WorkLifeBalance          -0.021490  -0.037848         -0.026556   0.009819   \n",
      "YearsAtCompany            0.278548  -0.021956          0.014240   0.062616   \n",
      "YearsInCurrentRole        0.212901   0.009932          0.018845   0.060236   \n",
      "YearsSinceLastPromotion   0.216513  -0.033229          0.010029   0.054254   \n",
      "YearsWithCurrManager      0.202089  -0.026363          0.014406   0.069065   \n",
      "\n",
      "                          EnvironmentSatisfaction  HourlyRate  JobInvolvement  \\\n",
      "Age                                      0.010146    0.024287        0.029820   \n",
      "DailyRate                                0.018355    0.023381        0.046135   \n",
      "DistanceFromHome                        -0.016075    0.031131        0.008783   \n",
      "Education                               -0.027128    0.016775        0.042438   \n",
      "EnvironmentSatisfaction                  1.000000   -0.049857       -0.008278   \n",
      "HourlyRate                              -0.049857    1.000000        0.042861   \n",
      "JobInvolvement                          -0.008278    0.042861        1.000000   \n",
      "JobLevel                                 0.001212   -0.027853       -0.012630   \n",
      "JobSatisfaction                         -0.006784   -0.071335       -0.021476   \n",
      "MonthlyIncome                           -0.009500   -0.016393       -0.014435   \n",
      "MonthlyRate                              0.037600   -0.015297       -0.016322   \n",
      "NumCompaniesWorked                       0.012504    0.023785        0.014490   \n",
      "PercentSalaryHike                       -0.031701   -0.009062       -0.017205   \n",
      "PerformanceRating                       -0.029548   -0.002172       -0.029071   \n",
      "RelationshipSatisfaction                 0.007665    0.001330        0.034297   \n",
      "TotalWorkingYears                       -0.002693   -0.002334       -0.005533   \n",
      "TrainingTimesLastYear                   -0.019359   -0.008548       -0.015338   \n",
      "WorkLifeBalance                          0.027627   -0.004607       -0.014617   \n",
      "YearsAtCompany                           0.002076   -0.025113       -0.006860   \n",
      "YearsInCurrentRole                       0.018007   -0.024106        0.008717   \n",
      "YearsSinceLastPromotion                  0.016194   -0.026716       -0.024184   \n",
      "YearsWithCurrManager                    -0.004999   -0.020123        0.025976   \n",
      "\n",
      "                          JobLevel  JobSatisfaction  MonthlyIncome  ...  \\\n",
      "Age                       0.509604        -0.004892       0.499692  ...   \n",
      "DailyRate                 0.002966         0.030571       0.008438  ...   \n",
      "DistanceFromHome          0.005303        -0.003669      -0.008716  ...   \n",
      "Education                 0.101589        -0.011296       0.100748  ...   \n",
      "EnvironmentSatisfaction   0.001212        -0.006784      -0.009500  ...   \n",
      "HourlyRate               -0.027853        -0.071335      -0.016393  ...   \n",
      "JobInvolvement           -0.012630        -0.021476      -0.014435  ...   \n",
      "JobLevel                  1.000000        -0.001944       0.945560  ...   \n",
      "JobSatisfaction          -0.001944         1.000000      -0.007701  ...   \n",
      "MonthlyIncome             0.945560        -0.007701       1.000000  ...   \n",
      "MonthlyRate               0.039563         0.000644       0.037895  ...   \n",
      "NumCompaniesWorked        0.143806        -0.056572       0.154770  ...   \n",
      "PercentSalaryHike        -0.034730         0.020002      -0.024637  ...   \n",
      "PerformanceRating        -0.021222         0.002297      -0.015679  ...   \n",
      "RelationshipSatisfaction  0.021642        -0.012454       0.024258  ...   \n",
      "TotalWorkingYears         0.782208        -0.020185       0.772764  ...   \n",
      "TrainingTimesLastYear    -0.018191        -0.005779      -0.025005  ...   \n",
      "WorkLifeBalance           0.037818        -0.019459       0.030952  ...   \n",
      "YearsAtCompany            0.506163         0.001912       0.484795  ...   \n",
      "YearsInCurrentRole        0.389447        -0.002305       0.372159  ...   \n",
      "YearsSinceLastPromotion   0.353885        -0.018214       0.347253  ...   \n",
      "YearsWithCurrManager      0.375281        -0.027656       0.348819  ...   \n",
      "\n",
      "                          PercentSalaryHike  PerformanceRating  \\\n",
      "Age                                0.003634           0.001904   \n",
      "DailyRate                          0.022704           0.000473   \n",
      "DistanceFromHome                   0.040235           0.027110   \n",
      "Education                         -0.011111          -0.024539   \n",
      "EnvironmentSatisfaction           -0.031701          -0.029548   \n",
      "HourlyRate                        -0.009062          -0.002172   \n",
      "JobInvolvement                    -0.017205          -0.029071   \n",
      "JobLevel                          -0.034730          -0.021222   \n",
      "JobSatisfaction                    0.020002           0.002297   \n",
      "MonthlyIncome                     -0.024637          -0.015679   \n",
      "MonthlyRate                       -0.006429          -0.009811   \n",
      "NumCompaniesWorked                -0.009665          -0.013193   \n",
      "PercentSalaryHike                  1.000000           0.773550   \n",
      "PerformanceRating                  0.773550           1.000000   \n",
      "RelationshipSatisfaction          -0.040490          -0.031351   \n",
      "TotalWorkingYears                 -0.020608           0.006744   \n",
      "TrainingTimesLastYear             -0.005221          -0.015579   \n",
      "WorkLifeBalance                   -0.003280           0.002572   \n",
      "YearsAtCompany                    -0.028935           0.012251   \n",
      "YearsInCurrentRole                -0.001520           0.034986   \n",
      "YearsSinceLastPromotion           -0.022154           0.017896   \n",
      "YearsWithCurrManager              -0.011985           0.022827   \n",
      "\n",
      "                          RelationshipSatisfaction  TotalWorkingYears  \\\n",
      "Age                                       0.053535           0.680381   \n",
      "DailyRate                                 0.007846           0.014515   \n",
      "DistanceFromHome                          0.006557           0.004628   \n",
      "Education                                -0.009118           0.148280   \n",
      "EnvironmentSatisfaction                   0.007665          -0.002693   \n",
      "HourlyRate                                0.001330          -0.002334   \n",
      "JobInvolvement                            0.034297          -0.005533   \n",
      "JobLevel                                  0.021642           0.782208   \n",
      "JobSatisfaction                          -0.012454          -0.020185   \n",
      "MonthlyIncome                             0.024258           0.772764   \n",
      "MonthlyRate                              -0.004085           0.026442   \n",
      "NumCompaniesWorked                        0.052771           0.240669   \n",
      "PercentSalaryHike                        -0.040490          -0.020608   \n",
      "PerformanceRating                        -0.031351           0.006744   \n",
      "RelationshipSatisfaction                  1.000000           0.024054   \n",
      "TotalWorkingYears                         0.024054           1.000000   \n",
      "TrainingTimesLastYear                     0.002497          -0.035662   \n",
      "WorkLifeBalance                           0.019604           0.001008   \n",
      "YearsAtCompany                            0.007228           0.588239   \n",
      "YearsInCurrentRole                       -0.015123           0.460365   \n",
      "YearsSinceLastPromotion                   0.033493           0.404858   \n",
      "YearsWithCurrManager                     -0.000867           0.459188   \n",
      "\n",
      "                          TrainingTimesLastYear  WorkLifeBalance  \\\n",
      "Age                                   -0.019621        -0.021490   \n",
      "DailyRate                              0.002453        -0.037848   \n",
      "DistanceFromHome                      -0.036942        -0.026556   \n",
      "Education                             -0.025100         0.009819   \n",
      "EnvironmentSatisfaction               -0.019359         0.027627   \n",
      "HourlyRate                            -0.008548        -0.004607   \n",
      "JobInvolvement                        -0.015338        -0.014617   \n",
      "JobLevel                              -0.018191         0.037818   \n",
      "JobSatisfaction                       -0.005779        -0.019459   \n",
      "MonthlyIncome                         -0.025005         0.030952   \n",
      "MonthlyRate                            0.001467         0.007963   \n",
      "NumCompaniesWorked                    -0.066084        -0.008006   \n",
      "PercentSalaryHike                     -0.005221        -0.003280   \n",
      "PerformanceRating                     -0.015579         0.002572   \n",
      "RelationshipSatisfaction               0.002497         0.019604   \n",
      "TotalWorkingYears                     -0.035662         0.001008   \n",
      "TrainingTimesLastYear                  1.000000         0.028072   \n",
      "WorkLifeBalance                        0.028072         1.000000   \n",
      "YearsAtCompany                        -0.000294         0.014446   \n",
      "YearsInCurrentRole                    -0.005738         0.049856   \n",
      "YearsSinceLastPromotion               -0.002067         0.008941   \n",
      "YearsWithCurrManager                  -0.004096         0.002759   \n",
      "\n",
      "                          YearsAtCompany  YearsInCurrentRole  \\\n",
      "Age                             0.278548            0.212901   \n",
      "DailyRate                      -0.021956            0.009932   \n",
      "DistanceFromHome                0.014240            0.018845   \n",
      "Education                       0.062616            0.060236   \n",
      "EnvironmentSatisfaction         0.002076            0.018007   \n",
      "HourlyRate                     -0.025113           -0.024106   \n",
      "JobInvolvement                 -0.006860            0.008717   \n",
      "JobLevel                        0.506163            0.389447   \n",
      "JobSatisfaction                 0.001912           -0.002305   \n",
      "MonthlyIncome                   0.484795            0.372159   \n",
      "MonthlyRate                    -0.031221           -0.012815   \n",
      "NumCompaniesWorked             -0.122126           -0.091135   \n",
      "PercentSalaryHike              -0.028935           -0.001520   \n",
      "PerformanceRating               0.012251            0.034986   \n",
      "RelationshipSatisfaction        0.007228           -0.015123   \n",
      "TotalWorkingYears               0.588239            0.460365   \n",
      "TrainingTimesLastYear          -0.000294           -0.005738   \n",
      "WorkLifeBalance                 0.014446            0.049856   \n",
      "YearsAtCompany                  1.000000            0.827554   \n",
      "YearsInCurrentRole              0.827554            1.000000   \n",
      "YearsSinceLastPromotion         0.622873            0.548056   \n",
      "YearsWithCurrManager            0.831760            0.714365   \n",
      "\n",
      "                          YearsSinceLastPromotion  YearsWithCurrManager  \n",
      "Age                                      0.216513              0.202089  \n",
      "DailyRate                               -0.033229             -0.026363  \n",
      "DistanceFromHome                         0.010029              0.014406  \n",
      "Education                                0.054254              0.069065  \n",
      "EnvironmentSatisfaction                  0.016194             -0.004999  \n",
      "HourlyRate                              -0.026716             -0.020123  \n",
      "JobInvolvement                          -0.024184              0.025976  \n",
      "JobLevel                                 0.353885              0.375281  \n",
      "JobSatisfaction                         -0.018214             -0.027656  \n",
      "MonthlyIncome                            0.347253              0.348819  \n",
      "MonthlyRate                              0.001567             -0.036746  \n",
      "NumCompaniesWorked                      -0.037517             -0.110931  \n",
      "PercentSalaryHike                       -0.022154             -0.011985  \n",
      "PerformanceRating                        0.017896              0.022827  \n",
      "RelationshipSatisfaction                 0.033493             -0.000867  \n",
      "TotalWorkingYears                        0.404858              0.459188  \n",
      "TrainingTimesLastYear                   -0.002067             -0.004096  \n",
      "WorkLifeBalance                          0.008941              0.002759  \n",
      "YearsAtCompany                           0.622873              0.831760  \n",
      "YearsInCurrentRole                       0.548056              0.714365  \n",
      "YearsSinceLastPromotion                  1.000000              0.510224  \n",
      "YearsWithCurrManager                     0.510224              1.000000  \n",
      "\n",
      "[22 rows x 22 columns]\n"
     ]
    }
   ],
   "source": [
    "cor_matrix = empdat.corr()\n",
    "print(cor_matrix)"
   ]
  },
  {
   "cell_type": "code",
   "execution_count": 66,
   "id": "e0879fab",
   "metadata": {},
   "outputs": [
    {
     "name": "stdout",
     "output_type": "stream",
     "text": [
      "                          Age  DailyRate  DistanceFromHome  Education  \\\n",
      "Age                       NaN   0.010661         -0.001686   0.208034   \n",
      "DailyRate                 NaN        NaN         -0.004985  -0.016806   \n",
      "DistanceFromHome          NaN        NaN               NaN   0.021042   \n",
      "Education                 NaN        NaN               NaN        NaN   \n",
      "EnvironmentSatisfaction   NaN        NaN               NaN        NaN   \n",
      "HourlyRate                NaN        NaN               NaN        NaN   \n",
      "JobInvolvement            NaN        NaN               NaN        NaN   \n",
      "JobLevel                  NaN        NaN               NaN        NaN   \n",
      "JobSatisfaction           NaN        NaN               NaN        NaN   \n",
      "MonthlyIncome             NaN        NaN               NaN        NaN   \n",
      "MonthlyRate               NaN        NaN               NaN        NaN   \n",
      "NumCompaniesWorked        NaN        NaN               NaN        NaN   \n",
      "PercentSalaryHike         NaN        NaN               NaN        NaN   \n",
      "PerformanceRating         NaN        NaN               NaN        NaN   \n",
      "RelationshipSatisfaction  NaN        NaN               NaN        NaN   \n",
      "TotalWorkingYears         NaN        NaN               NaN        NaN   \n",
      "TrainingTimesLastYear     NaN        NaN               NaN        NaN   \n",
      "WorkLifeBalance           NaN        NaN               NaN        NaN   \n",
      "YearsAtCompany            NaN        NaN               NaN        NaN   \n",
      "YearsInCurrentRole        NaN        NaN               NaN        NaN   \n",
      "YearsSinceLastPromotion   NaN        NaN               NaN        NaN   \n",
      "YearsWithCurrManager      NaN        NaN               NaN        NaN   \n",
      "\n",
      "                          EnvironmentSatisfaction  HourlyRate  JobInvolvement  \\\n",
      "Age                                      0.010146    0.024287        0.029820   \n",
      "DailyRate                                0.018355    0.023381        0.046135   \n",
      "DistanceFromHome                        -0.016075    0.031131        0.008783   \n",
      "Education                               -0.027128    0.016775        0.042438   \n",
      "EnvironmentSatisfaction                       NaN   -0.049857       -0.008278   \n",
      "HourlyRate                                    NaN         NaN        0.042861   \n",
      "JobInvolvement                                NaN         NaN             NaN   \n",
      "JobLevel                                      NaN         NaN             NaN   \n",
      "JobSatisfaction                               NaN         NaN             NaN   \n",
      "MonthlyIncome                                 NaN         NaN             NaN   \n",
      "MonthlyRate                                   NaN         NaN             NaN   \n",
      "NumCompaniesWorked                            NaN         NaN             NaN   \n",
      "PercentSalaryHike                             NaN         NaN             NaN   \n",
      "PerformanceRating                             NaN         NaN             NaN   \n",
      "RelationshipSatisfaction                      NaN         NaN             NaN   \n",
      "TotalWorkingYears                             NaN         NaN             NaN   \n",
      "TrainingTimesLastYear                         NaN         NaN             NaN   \n",
      "WorkLifeBalance                               NaN         NaN             NaN   \n",
      "YearsAtCompany                                NaN         NaN             NaN   \n",
      "YearsInCurrentRole                            NaN         NaN             NaN   \n",
      "YearsSinceLastPromotion                       NaN         NaN             NaN   \n",
      "YearsWithCurrManager                          NaN         NaN             NaN   \n",
      "\n",
      "                          JobLevel  JobSatisfaction  MonthlyIncome  ...  \\\n",
      "Age                       0.509604        -0.004892       0.499692  ...   \n",
      "DailyRate                 0.002966         0.030571       0.008438  ...   \n",
      "DistanceFromHome          0.005303        -0.003669      -0.008716  ...   \n",
      "Education                 0.101589        -0.011296       0.100748  ...   \n",
      "EnvironmentSatisfaction   0.001212        -0.006784      -0.009500  ...   \n",
      "HourlyRate               -0.027853        -0.071335      -0.016393  ...   \n",
      "JobInvolvement           -0.012630        -0.021476      -0.014435  ...   \n",
      "JobLevel                       NaN        -0.001944       0.945560  ...   \n",
      "JobSatisfaction                NaN              NaN      -0.007701  ...   \n",
      "MonthlyIncome                  NaN              NaN            NaN  ...   \n",
      "MonthlyRate                    NaN              NaN            NaN  ...   \n",
      "NumCompaniesWorked             NaN              NaN            NaN  ...   \n",
      "PercentSalaryHike              NaN              NaN            NaN  ...   \n",
      "PerformanceRating              NaN              NaN            NaN  ...   \n",
      "RelationshipSatisfaction       NaN              NaN            NaN  ...   \n",
      "TotalWorkingYears              NaN              NaN            NaN  ...   \n",
      "TrainingTimesLastYear          NaN              NaN            NaN  ...   \n",
      "WorkLifeBalance                NaN              NaN            NaN  ...   \n",
      "YearsAtCompany                 NaN              NaN            NaN  ...   \n",
      "YearsInCurrentRole             NaN              NaN            NaN  ...   \n",
      "YearsSinceLastPromotion        NaN              NaN            NaN  ...   \n",
      "YearsWithCurrManager           NaN              NaN            NaN  ...   \n",
      "\n",
      "                          PercentSalaryHike  PerformanceRating  \\\n",
      "Age                                0.003634           0.001904   \n",
      "DailyRate                          0.022704           0.000473   \n",
      "DistanceFromHome                   0.040235           0.027110   \n",
      "Education                         -0.011111          -0.024539   \n",
      "EnvironmentSatisfaction           -0.031701          -0.029548   \n",
      "HourlyRate                        -0.009062          -0.002172   \n",
      "JobInvolvement                    -0.017205          -0.029071   \n",
      "JobLevel                          -0.034730          -0.021222   \n",
      "JobSatisfaction                    0.020002           0.002297   \n",
      "MonthlyIncome                     -0.024637          -0.015679   \n",
      "MonthlyRate                       -0.006429          -0.009811   \n",
      "NumCompaniesWorked                -0.009665          -0.013193   \n",
      "PercentSalaryHike                       NaN           0.773550   \n",
      "PerformanceRating                       NaN                NaN   \n",
      "RelationshipSatisfaction                NaN                NaN   \n",
      "TotalWorkingYears                       NaN                NaN   \n",
      "TrainingTimesLastYear                   NaN                NaN   \n",
      "WorkLifeBalance                         NaN                NaN   \n",
      "YearsAtCompany                          NaN                NaN   \n",
      "YearsInCurrentRole                      NaN                NaN   \n",
      "YearsSinceLastPromotion                 NaN                NaN   \n",
      "YearsWithCurrManager                    NaN                NaN   \n",
      "\n",
      "                          RelationshipSatisfaction  TotalWorkingYears  \\\n",
      "Age                                       0.053535           0.680381   \n",
      "DailyRate                                 0.007846           0.014515   \n",
      "DistanceFromHome                          0.006557           0.004628   \n",
      "Education                                -0.009118           0.148280   \n",
      "EnvironmentSatisfaction                   0.007665          -0.002693   \n",
      "HourlyRate                                0.001330          -0.002334   \n",
      "JobInvolvement                            0.034297          -0.005533   \n",
      "JobLevel                                  0.021642           0.782208   \n",
      "JobSatisfaction                          -0.012454          -0.020185   \n",
      "MonthlyIncome                             0.024258           0.772764   \n",
      "MonthlyRate                              -0.004085           0.026442   \n",
      "NumCompaniesWorked                        0.052771           0.240669   \n",
      "PercentSalaryHike                        -0.040490          -0.020608   \n",
      "PerformanceRating                        -0.031351           0.006744   \n",
      "RelationshipSatisfaction                       NaN           0.024054   \n",
      "TotalWorkingYears                              NaN                NaN   \n",
      "TrainingTimesLastYear                          NaN                NaN   \n",
      "WorkLifeBalance                                NaN                NaN   \n",
      "YearsAtCompany                                 NaN                NaN   \n",
      "YearsInCurrentRole                             NaN                NaN   \n",
      "YearsSinceLastPromotion                        NaN                NaN   \n",
      "YearsWithCurrManager                           NaN                NaN   \n",
      "\n",
      "                          TrainingTimesLastYear  WorkLifeBalance  \\\n",
      "Age                                   -0.019621        -0.021490   \n",
      "DailyRate                              0.002453        -0.037848   \n",
      "DistanceFromHome                      -0.036942        -0.026556   \n",
      "Education                             -0.025100         0.009819   \n",
      "EnvironmentSatisfaction               -0.019359         0.027627   \n",
      "HourlyRate                            -0.008548        -0.004607   \n",
      "JobInvolvement                        -0.015338        -0.014617   \n",
      "JobLevel                              -0.018191         0.037818   \n",
      "JobSatisfaction                       -0.005779        -0.019459   \n",
      "MonthlyIncome                         -0.025005         0.030952   \n",
      "MonthlyRate                            0.001467         0.007963   \n",
      "NumCompaniesWorked                    -0.066084        -0.008006   \n",
      "PercentSalaryHike                     -0.005221        -0.003280   \n",
      "PerformanceRating                     -0.015579         0.002572   \n",
      "RelationshipSatisfaction               0.002497         0.019604   \n",
      "TotalWorkingYears                     -0.035662         0.001008   \n",
      "TrainingTimesLastYear                       NaN         0.028072   \n",
      "WorkLifeBalance                             NaN              NaN   \n",
      "YearsAtCompany                              NaN              NaN   \n",
      "YearsInCurrentRole                          NaN              NaN   \n",
      "YearsSinceLastPromotion                     NaN              NaN   \n",
      "YearsWithCurrManager                        NaN              NaN   \n",
      "\n",
      "                          YearsAtCompany  YearsInCurrentRole  \\\n",
      "Age                             0.278548            0.212901   \n",
      "DailyRate                      -0.021956            0.009932   \n",
      "DistanceFromHome                0.014240            0.018845   \n",
      "Education                       0.062616            0.060236   \n",
      "EnvironmentSatisfaction         0.002076            0.018007   \n",
      "HourlyRate                     -0.025113           -0.024106   \n",
      "JobInvolvement                 -0.006860            0.008717   \n",
      "JobLevel                        0.506163            0.389447   \n",
      "JobSatisfaction                 0.001912           -0.002305   \n",
      "MonthlyIncome                   0.484795            0.372159   \n",
      "MonthlyRate                    -0.031221           -0.012815   \n",
      "NumCompaniesWorked             -0.122126           -0.091135   \n",
      "PercentSalaryHike              -0.028935           -0.001520   \n",
      "PerformanceRating               0.012251            0.034986   \n",
      "RelationshipSatisfaction        0.007228           -0.015123   \n",
      "TotalWorkingYears               0.588239            0.460365   \n",
      "TrainingTimesLastYear          -0.000294           -0.005738   \n",
      "WorkLifeBalance                 0.014446            0.049856   \n",
      "YearsAtCompany                       NaN            0.827554   \n",
      "YearsInCurrentRole                   NaN                 NaN   \n",
      "YearsSinceLastPromotion              NaN                 NaN   \n",
      "YearsWithCurrManager                 NaN                 NaN   \n",
      "\n",
      "                          YearsSinceLastPromotion  YearsWithCurrManager  \n",
      "Age                                      0.216513              0.202089  \n",
      "DailyRate                               -0.033229             -0.026363  \n",
      "DistanceFromHome                         0.010029              0.014406  \n",
      "Education                                0.054254              0.069065  \n",
      "EnvironmentSatisfaction                  0.016194             -0.004999  \n",
      "HourlyRate                              -0.026716             -0.020123  \n",
      "JobInvolvement                          -0.024184              0.025976  \n",
      "JobLevel                                 0.353885              0.375281  \n",
      "JobSatisfaction                         -0.018214             -0.027656  \n",
      "MonthlyIncome                            0.347253              0.348819  \n",
      "MonthlyRate                              0.001567             -0.036746  \n",
      "NumCompaniesWorked                      -0.037517             -0.110931  \n",
      "PercentSalaryHike                       -0.022154             -0.011985  \n",
      "PerformanceRating                        0.017896              0.022827  \n",
      "RelationshipSatisfaction                 0.033493             -0.000867  \n",
      "TotalWorkingYears                        0.404858              0.459188  \n",
      "TrainingTimesLastYear                   -0.002067             -0.004096  \n",
      "WorkLifeBalance                          0.008941              0.002759  \n",
      "YearsAtCompany                           0.622873              0.831760  \n",
      "YearsInCurrentRole                       0.548056              0.714365  \n",
      "YearsSinceLastPromotion                       NaN              0.510224  \n",
      "YearsWithCurrManager                          NaN                   NaN  \n",
      "\n",
      "[22 rows x 22 columns]\n"
     ]
    }
   ],
   "source": [
    "import numpy as np\n",
    "upper_tri = cor_matrix.where(np.triu(np.ones(cor_matrix.shape),k=1).astype(bool))\n",
    "print(upper_tri)"
   ]
  },
  {
   "cell_type": "code",
   "execution_count": 67,
   "id": "76d68623",
   "metadata": {},
   "outputs": [
    {
     "data": {
      "text/html": [
       "<div>\n",
       "<style scoped>\n",
       "    .dataframe tbody tr th:only-of-type {\n",
       "        vertical-align: middle;\n",
       "    }\n",
       "\n",
       "    .dataframe tbody tr th {\n",
       "        vertical-align: top;\n",
       "    }\n",
       "\n",
       "    .dataframe thead th {\n",
       "        text-align: right;\n",
       "    }\n",
       "</style>\n",
       "<table border=\"1\" class=\"dataframe\">\n",
       "  <thead>\n",
       "    <tr style=\"text-align: right;\">\n",
       "      <th></th>\n",
       "      <th>Age</th>\n",
       "      <th>Attrition</th>\n",
       "      <th>BusinessTravel</th>\n",
       "      <th>DailyRate</th>\n",
       "      <th>Department</th>\n",
       "      <th>DistanceFromHome</th>\n",
       "      <th>Education</th>\n",
       "      <th>EducationField</th>\n",
       "      <th>EnvironmentSatisfaction</th>\n",
       "      <th>Gender</th>\n",
       "      <th>...</th>\n",
       "      <th>PercentSalaryHike</th>\n",
       "      <th>PerformanceRating</th>\n",
       "      <th>RelationshipSatisfaction</th>\n",
       "      <th>TotalWorkingYears</th>\n",
       "      <th>TrainingTimesLastYear</th>\n",
       "      <th>WorkLifeBalance</th>\n",
       "      <th>YearsAtCompany</th>\n",
       "      <th>YearsInCurrentRole</th>\n",
       "      <th>YearsSinceLastPromotion</th>\n",
       "      <th>YearsWithCurrManager</th>\n",
       "    </tr>\n",
       "  </thead>\n",
       "  <tbody>\n",
       "    <tr>\n",
       "      <th>0</th>\n",
       "      <td>41</td>\n",
       "      <td>Yes</td>\n",
       "      <td>Travel_Rarely</td>\n",
       "      <td>1102</td>\n",
       "      <td>Sales</td>\n",
       "      <td>1</td>\n",
       "      <td>2</td>\n",
       "      <td>Life Sciences</td>\n",
       "      <td>2</td>\n",
       "      <td>Female</td>\n",
       "      <td>...</td>\n",
       "      <td>11</td>\n",
       "      <td>3</td>\n",
       "      <td>1</td>\n",
       "      <td>8</td>\n",
       "      <td>0</td>\n",
       "      <td>1</td>\n",
       "      <td>6</td>\n",
       "      <td>4</td>\n",
       "      <td>0</td>\n",
       "      <td>5</td>\n",
       "    </tr>\n",
       "    <tr>\n",
       "      <th>1</th>\n",
       "      <td>49</td>\n",
       "      <td>No</td>\n",
       "      <td>Travel_Frequently</td>\n",
       "      <td>279</td>\n",
       "      <td>Research &amp; Development</td>\n",
       "      <td>8</td>\n",
       "      <td>1</td>\n",
       "      <td>Life Sciences</td>\n",
       "      <td>3</td>\n",
       "      <td>Male</td>\n",
       "      <td>...</td>\n",
       "      <td>23</td>\n",
       "      <td>4</td>\n",
       "      <td>4</td>\n",
       "      <td>10</td>\n",
       "      <td>3</td>\n",
       "      <td>3</td>\n",
       "      <td>10</td>\n",
       "      <td>7</td>\n",
       "      <td>1</td>\n",
       "      <td>7</td>\n",
       "    </tr>\n",
       "    <tr>\n",
       "      <th>2</th>\n",
       "      <td>37</td>\n",
       "      <td>Yes</td>\n",
       "      <td>Travel_Rarely</td>\n",
       "      <td>1373</td>\n",
       "      <td>Research &amp; Development</td>\n",
       "      <td>2</td>\n",
       "      <td>2</td>\n",
       "      <td>Other</td>\n",
       "      <td>4</td>\n",
       "      <td>Male</td>\n",
       "      <td>...</td>\n",
       "      <td>15</td>\n",
       "      <td>3</td>\n",
       "      <td>2</td>\n",
       "      <td>7</td>\n",
       "      <td>3</td>\n",
       "      <td>3</td>\n",
       "      <td>0</td>\n",
       "      <td>0</td>\n",
       "      <td>0</td>\n",
       "      <td>0</td>\n",
       "    </tr>\n",
       "    <tr>\n",
       "      <th>3</th>\n",
       "      <td>33</td>\n",
       "      <td>No</td>\n",
       "      <td>Travel_Frequently</td>\n",
       "      <td>1392</td>\n",
       "      <td>Research &amp; Development</td>\n",
       "      <td>3</td>\n",
       "      <td>4</td>\n",
       "      <td>Life Sciences</td>\n",
       "      <td>4</td>\n",
       "      <td>Female</td>\n",
       "      <td>...</td>\n",
       "      <td>11</td>\n",
       "      <td>3</td>\n",
       "      <td>3</td>\n",
       "      <td>8</td>\n",
       "      <td>3</td>\n",
       "      <td>3</td>\n",
       "      <td>8</td>\n",
       "      <td>7</td>\n",
       "      <td>3</td>\n",
       "      <td>0</td>\n",
       "    </tr>\n",
       "    <tr>\n",
       "      <th>4</th>\n",
       "      <td>27</td>\n",
       "      <td>No</td>\n",
       "      <td>Travel_Rarely</td>\n",
       "      <td>591</td>\n",
       "      <td>Research &amp; Development</td>\n",
       "      <td>2</td>\n",
       "      <td>1</td>\n",
       "      <td>Medical</td>\n",
       "      <td>1</td>\n",
       "      <td>Male</td>\n",
       "      <td>...</td>\n",
       "      <td>12</td>\n",
       "      <td>3</td>\n",
       "      <td>4</td>\n",
       "      <td>6</td>\n",
       "      <td>3</td>\n",
       "      <td>3</td>\n",
       "      <td>2</td>\n",
       "      <td>2</td>\n",
       "      <td>2</td>\n",
       "      <td>2</td>\n",
       "    </tr>\n",
       "  </tbody>\n",
       "</table>\n",
       "<p>5 rows × 30 columns</p>\n",
       "</div>"
      ],
      "text/plain": [
       "   Age Attrition     BusinessTravel  DailyRate              Department  \\\n",
       "0   41       Yes      Travel_Rarely       1102                   Sales   \n",
       "1   49        No  Travel_Frequently        279  Research & Development   \n",
       "2   37       Yes      Travel_Rarely       1373  Research & Development   \n",
       "3   33        No  Travel_Frequently       1392  Research & Development   \n",
       "4   27        No      Travel_Rarely        591  Research & Development   \n",
       "\n",
       "   DistanceFromHome  Education EducationField  EnvironmentSatisfaction  \\\n",
       "0                 1          2  Life Sciences                        2   \n",
       "1                 8          1  Life Sciences                        3   \n",
       "2                 2          2          Other                        4   \n",
       "3                 3          4  Life Sciences                        4   \n",
       "4                 2          1        Medical                        1   \n",
       "\n",
       "   Gender  ...  PercentSalaryHike  PerformanceRating  \\\n",
       "0  Female  ...                 11                  3   \n",
       "1    Male  ...                 23                  4   \n",
       "2    Male  ...                 15                  3   \n",
       "3  Female  ...                 11                  3   \n",
       "4    Male  ...                 12                  3   \n",
       "\n",
       "   RelationshipSatisfaction TotalWorkingYears  TrainingTimesLastYear  \\\n",
       "0                         1                 8                      0   \n",
       "1                         4                10                      3   \n",
       "2                         2                 7                      3   \n",
       "3                         3                 8                      3   \n",
       "4                         4                 6                      3   \n",
       "\n",
       "  WorkLifeBalance  YearsAtCompany  YearsInCurrentRole  \\\n",
       "0               1               6                   4   \n",
       "1               3              10                   7   \n",
       "2               3               0                   0   \n",
       "3               3               8                   7   \n",
       "4               3               2                   2   \n",
       "\n",
       "   YearsSinceLastPromotion YearsWithCurrManager  \n",
       "0                        0                    5  \n",
       "1                        1                    7  \n",
       "2                        0                    0  \n",
       "3                        3                    0  \n",
       "4                        2                    2  \n",
       "\n",
       "[5 rows x 30 columns]"
      ]
     },
     "execution_count": 67,
     "metadata": {},
     "output_type": "execute_result"
    }
   ],
   "source": [
    "empdat.head()"
   ]
  },
  {
   "cell_type": "code",
   "execution_count": 68,
   "id": "94f626e2",
   "metadata": {},
   "outputs": [
    {
     "name": "stdout",
     "output_type": "stream",
     "text": [
      "['MonthlyIncome']\n"
     ]
    }
   ],
   "source": [
    "to_drop = [column for column in upper_tri.columns if any(upper_tri[column] >= 0.9)]\n",
    "print(to_drop)"
   ]
  },
  {
   "cell_type": "code",
   "execution_count": 69,
   "id": "fd25cce3",
   "metadata": {},
   "outputs": [
    {
     "data": {
      "text/html": [
       "<div>\n",
       "<style scoped>\n",
       "    .dataframe tbody tr th:only-of-type {\n",
       "        vertical-align: middle;\n",
       "    }\n",
       "\n",
       "    .dataframe tbody tr th {\n",
       "        vertical-align: top;\n",
       "    }\n",
       "\n",
       "    .dataframe thead th {\n",
       "        text-align: right;\n",
       "    }\n",
       "</style>\n",
       "<table border=\"1\" class=\"dataframe\">\n",
       "  <thead>\n",
       "    <tr style=\"text-align: right;\">\n",
       "      <th></th>\n",
       "      <th>Age</th>\n",
       "      <th>Attrition</th>\n",
       "      <th>BusinessTravel</th>\n",
       "      <th>DailyRate</th>\n",
       "      <th>Department</th>\n",
       "      <th>DistanceFromHome</th>\n",
       "      <th>Education</th>\n",
       "      <th>EducationField</th>\n",
       "      <th>EnvironmentSatisfaction</th>\n",
       "      <th>Gender</th>\n",
       "      <th>...</th>\n",
       "      <th>PercentSalaryHike</th>\n",
       "      <th>PerformanceRating</th>\n",
       "      <th>RelationshipSatisfaction</th>\n",
       "      <th>TotalWorkingYears</th>\n",
       "      <th>TrainingTimesLastYear</th>\n",
       "      <th>WorkLifeBalance</th>\n",
       "      <th>YearsAtCompany</th>\n",
       "      <th>YearsInCurrentRole</th>\n",
       "      <th>YearsSinceLastPromotion</th>\n",
       "      <th>YearsWithCurrManager</th>\n",
       "    </tr>\n",
       "  </thead>\n",
       "  <tbody>\n",
       "    <tr>\n",
       "      <th>0</th>\n",
       "      <td>41</td>\n",
       "      <td>Yes</td>\n",
       "      <td>Travel_Rarely</td>\n",
       "      <td>1102</td>\n",
       "      <td>Sales</td>\n",
       "      <td>1</td>\n",
       "      <td>2</td>\n",
       "      <td>Life Sciences</td>\n",
       "      <td>2</td>\n",
       "      <td>Female</td>\n",
       "      <td>...</td>\n",
       "      <td>11</td>\n",
       "      <td>3</td>\n",
       "      <td>1</td>\n",
       "      <td>8</td>\n",
       "      <td>0</td>\n",
       "      <td>1</td>\n",
       "      <td>6</td>\n",
       "      <td>4</td>\n",
       "      <td>0</td>\n",
       "      <td>5</td>\n",
       "    </tr>\n",
       "    <tr>\n",
       "      <th>1</th>\n",
       "      <td>49</td>\n",
       "      <td>No</td>\n",
       "      <td>Travel_Frequently</td>\n",
       "      <td>279</td>\n",
       "      <td>Research &amp; Development</td>\n",
       "      <td>8</td>\n",
       "      <td>1</td>\n",
       "      <td>Life Sciences</td>\n",
       "      <td>3</td>\n",
       "      <td>Male</td>\n",
       "      <td>...</td>\n",
       "      <td>23</td>\n",
       "      <td>4</td>\n",
       "      <td>4</td>\n",
       "      <td>10</td>\n",
       "      <td>3</td>\n",
       "      <td>3</td>\n",
       "      <td>10</td>\n",
       "      <td>7</td>\n",
       "      <td>1</td>\n",
       "      <td>7</td>\n",
       "    </tr>\n",
       "    <tr>\n",
       "      <th>2</th>\n",
       "      <td>37</td>\n",
       "      <td>Yes</td>\n",
       "      <td>Travel_Rarely</td>\n",
       "      <td>1373</td>\n",
       "      <td>Research &amp; Development</td>\n",
       "      <td>2</td>\n",
       "      <td>2</td>\n",
       "      <td>Other</td>\n",
       "      <td>4</td>\n",
       "      <td>Male</td>\n",
       "      <td>...</td>\n",
       "      <td>15</td>\n",
       "      <td>3</td>\n",
       "      <td>2</td>\n",
       "      <td>7</td>\n",
       "      <td>3</td>\n",
       "      <td>3</td>\n",
       "      <td>0</td>\n",
       "      <td>0</td>\n",
       "      <td>0</td>\n",
       "      <td>0</td>\n",
       "    </tr>\n",
       "    <tr>\n",
       "      <th>3</th>\n",
       "      <td>33</td>\n",
       "      <td>No</td>\n",
       "      <td>Travel_Frequently</td>\n",
       "      <td>1392</td>\n",
       "      <td>Research &amp; Development</td>\n",
       "      <td>3</td>\n",
       "      <td>4</td>\n",
       "      <td>Life Sciences</td>\n",
       "      <td>4</td>\n",
       "      <td>Female</td>\n",
       "      <td>...</td>\n",
       "      <td>11</td>\n",
       "      <td>3</td>\n",
       "      <td>3</td>\n",
       "      <td>8</td>\n",
       "      <td>3</td>\n",
       "      <td>3</td>\n",
       "      <td>8</td>\n",
       "      <td>7</td>\n",
       "      <td>3</td>\n",
       "      <td>0</td>\n",
       "    </tr>\n",
       "    <tr>\n",
       "      <th>4</th>\n",
       "      <td>27</td>\n",
       "      <td>No</td>\n",
       "      <td>Travel_Rarely</td>\n",
       "      <td>591</td>\n",
       "      <td>Research &amp; Development</td>\n",
       "      <td>2</td>\n",
       "      <td>1</td>\n",
       "      <td>Medical</td>\n",
       "      <td>1</td>\n",
       "      <td>Male</td>\n",
       "      <td>...</td>\n",
       "      <td>12</td>\n",
       "      <td>3</td>\n",
       "      <td>4</td>\n",
       "      <td>6</td>\n",
       "      <td>3</td>\n",
       "      <td>3</td>\n",
       "      <td>2</td>\n",
       "      <td>2</td>\n",
       "      <td>2</td>\n",
       "      <td>2</td>\n",
       "    </tr>\n",
       "  </tbody>\n",
       "</table>\n",
       "<p>5 rows × 29 columns</p>\n",
       "</div>"
      ],
      "text/plain": [
       "   Age Attrition     BusinessTravel  DailyRate              Department  \\\n",
       "0   41       Yes      Travel_Rarely       1102                   Sales   \n",
       "1   49        No  Travel_Frequently        279  Research & Development   \n",
       "2   37       Yes      Travel_Rarely       1373  Research & Development   \n",
       "3   33        No  Travel_Frequently       1392  Research & Development   \n",
       "4   27        No      Travel_Rarely        591  Research & Development   \n",
       "\n",
       "   DistanceFromHome  Education EducationField  EnvironmentSatisfaction  \\\n",
       "0                 1          2  Life Sciences                        2   \n",
       "1                 8          1  Life Sciences                        3   \n",
       "2                 2          2          Other                        4   \n",
       "3                 3          4  Life Sciences                        4   \n",
       "4                 2          1        Medical                        1   \n",
       "\n",
       "   Gender  ...  PercentSalaryHike  PerformanceRating  \\\n",
       "0  Female  ...                 11                  3   \n",
       "1    Male  ...                 23                  4   \n",
       "2    Male  ...                 15                  3   \n",
       "3  Female  ...                 11                  3   \n",
       "4    Male  ...                 12                  3   \n",
       "\n",
       "   RelationshipSatisfaction TotalWorkingYears  TrainingTimesLastYear  \\\n",
       "0                         1                 8                      0   \n",
       "1                         4                10                      3   \n",
       "2                         2                 7                      3   \n",
       "3                         3                 8                      3   \n",
       "4                         4                 6                      3   \n",
       "\n",
       "  WorkLifeBalance  YearsAtCompany  YearsInCurrentRole YearsSinceLastPromotion  \\\n",
       "0               1               6                   4                       0   \n",
       "1               3              10                   7                       1   \n",
       "2               3               0                   0                       0   \n",
       "3               3               8                   7                       3   \n",
       "4               3               2                   2                       2   \n",
       "\n",
       "   YearsWithCurrManager  \n",
       "0                     5  \n",
       "1                     7  \n",
       "2                     0  \n",
       "3                     0  \n",
       "4                     2  \n",
       "\n",
       "[5 rows x 29 columns]"
      ]
     },
     "execution_count": 69,
     "metadata": {},
     "output_type": "execute_result"
    }
   ],
   "source": [
    "empdat = empdat.drop(to_drop, 1)\n",
    "empdat.head()"
   ]
  },
  {
   "cell_type": "markdown",
   "id": "efcc7e0c",
   "metadata": {},
   "source": [
    "# Data preprocessing"
   ]
  },
  {
   "cell_type": "code",
   "execution_count": 70,
   "id": "9bcc5fc9",
   "metadata": {},
   "outputs": [],
   "source": [
    "from sklearn.preprocessing import LabelEncoder,OneHotEncoder\n",
    "le = LabelEncoder()\n",
    "lst = ['BusinessTravel', 'Department','EducationField', 'Gender', 'OverTime','JobRole','MaritalStatus' ,'Attrition']\n",
    "for i in lst:\n",
    "    empdat[i] = le.fit_transform(empdat[i])"
   ]
  },
  {
   "cell_type": "code",
   "execution_count": 71,
   "id": "db4e70f4",
   "metadata": {},
   "outputs": [
    {
     "data": {
      "text/html": [
       "<div>\n",
       "<style scoped>\n",
       "    .dataframe tbody tr th:only-of-type {\n",
       "        vertical-align: middle;\n",
       "    }\n",
       "\n",
       "    .dataframe tbody tr th {\n",
       "        vertical-align: top;\n",
       "    }\n",
       "\n",
       "    .dataframe thead th {\n",
       "        text-align: right;\n",
       "    }\n",
       "</style>\n",
       "<table border=\"1\" class=\"dataframe\">\n",
       "  <thead>\n",
       "    <tr style=\"text-align: right;\">\n",
       "      <th></th>\n",
       "      <th>Age</th>\n",
       "      <th>Attrition</th>\n",
       "      <th>BusinessTravel</th>\n",
       "      <th>DailyRate</th>\n",
       "      <th>Department</th>\n",
       "      <th>DistanceFromHome</th>\n",
       "      <th>Education</th>\n",
       "      <th>EducationField</th>\n",
       "      <th>EnvironmentSatisfaction</th>\n",
       "      <th>Gender</th>\n",
       "      <th>...</th>\n",
       "      <th>PercentSalaryHike</th>\n",
       "      <th>PerformanceRating</th>\n",
       "      <th>RelationshipSatisfaction</th>\n",
       "      <th>TotalWorkingYears</th>\n",
       "      <th>TrainingTimesLastYear</th>\n",
       "      <th>WorkLifeBalance</th>\n",
       "      <th>YearsAtCompany</th>\n",
       "      <th>YearsInCurrentRole</th>\n",
       "      <th>YearsSinceLastPromotion</th>\n",
       "      <th>YearsWithCurrManager</th>\n",
       "    </tr>\n",
       "  </thead>\n",
       "  <tbody>\n",
       "    <tr>\n",
       "      <th>0</th>\n",
       "      <td>41</td>\n",
       "      <td>1</td>\n",
       "      <td>2</td>\n",
       "      <td>1102</td>\n",
       "      <td>2</td>\n",
       "      <td>1</td>\n",
       "      <td>2</td>\n",
       "      <td>1</td>\n",
       "      <td>2</td>\n",
       "      <td>0</td>\n",
       "      <td>...</td>\n",
       "      <td>11</td>\n",
       "      <td>3</td>\n",
       "      <td>1</td>\n",
       "      <td>8</td>\n",
       "      <td>0</td>\n",
       "      <td>1</td>\n",
       "      <td>6</td>\n",
       "      <td>4</td>\n",
       "      <td>0</td>\n",
       "      <td>5</td>\n",
       "    </tr>\n",
       "    <tr>\n",
       "      <th>1</th>\n",
       "      <td>49</td>\n",
       "      <td>0</td>\n",
       "      <td>1</td>\n",
       "      <td>279</td>\n",
       "      <td>1</td>\n",
       "      <td>8</td>\n",
       "      <td>1</td>\n",
       "      <td>1</td>\n",
       "      <td>3</td>\n",
       "      <td>1</td>\n",
       "      <td>...</td>\n",
       "      <td>23</td>\n",
       "      <td>4</td>\n",
       "      <td>4</td>\n",
       "      <td>10</td>\n",
       "      <td>3</td>\n",
       "      <td>3</td>\n",
       "      <td>10</td>\n",
       "      <td>7</td>\n",
       "      <td>1</td>\n",
       "      <td>7</td>\n",
       "    </tr>\n",
       "    <tr>\n",
       "      <th>2</th>\n",
       "      <td>37</td>\n",
       "      <td>1</td>\n",
       "      <td>2</td>\n",
       "      <td>1373</td>\n",
       "      <td>1</td>\n",
       "      <td>2</td>\n",
       "      <td>2</td>\n",
       "      <td>4</td>\n",
       "      <td>4</td>\n",
       "      <td>1</td>\n",
       "      <td>...</td>\n",
       "      <td>15</td>\n",
       "      <td>3</td>\n",
       "      <td>2</td>\n",
       "      <td>7</td>\n",
       "      <td>3</td>\n",
       "      <td>3</td>\n",
       "      <td>0</td>\n",
       "      <td>0</td>\n",
       "      <td>0</td>\n",
       "      <td>0</td>\n",
       "    </tr>\n",
       "    <tr>\n",
       "      <th>3</th>\n",
       "      <td>33</td>\n",
       "      <td>0</td>\n",
       "      <td>1</td>\n",
       "      <td>1392</td>\n",
       "      <td>1</td>\n",
       "      <td>3</td>\n",
       "      <td>4</td>\n",
       "      <td>1</td>\n",
       "      <td>4</td>\n",
       "      <td>0</td>\n",
       "      <td>...</td>\n",
       "      <td>11</td>\n",
       "      <td>3</td>\n",
       "      <td>3</td>\n",
       "      <td>8</td>\n",
       "      <td>3</td>\n",
       "      <td>3</td>\n",
       "      <td>8</td>\n",
       "      <td>7</td>\n",
       "      <td>3</td>\n",
       "      <td>0</td>\n",
       "    </tr>\n",
       "    <tr>\n",
       "      <th>4</th>\n",
       "      <td>27</td>\n",
       "      <td>0</td>\n",
       "      <td>2</td>\n",
       "      <td>591</td>\n",
       "      <td>1</td>\n",
       "      <td>2</td>\n",
       "      <td>1</td>\n",
       "      <td>3</td>\n",
       "      <td>1</td>\n",
       "      <td>1</td>\n",
       "      <td>...</td>\n",
       "      <td>12</td>\n",
       "      <td>3</td>\n",
       "      <td>4</td>\n",
       "      <td>6</td>\n",
       "      <td>3</td>\n",
       "      <td>3</td>\n",
       "      <td>2</td>\n",
       "      <td>2</td>\n",
       "      <td>2</td>\n",
       "      <td>2</td>\n",
       "    </tr>\n",
       "  </tbody>\n",
       "</table>\n",
       "<p>5 rows × 29 columns</p>\n",
       "</div>"
      ],
      "text/plain": [
       "   Age  Attrition  BusinessTravel  DailyRate  Department  DistanceFromHome  \\\n",
       "0   41          1               2       1102           2                 1   \n",
       "1   49          0               1        279           1                 8   \n",
       "2   37          1               2       1373           1                 2   \n",
       "3   33          0               1       1392           1                 3   \n",
       "4   27          0               2        591           1                 2   \n",
       "\n",
       "   Education  EducationField  EnvironmentSatisfaction  Gender  ...  \\\n",
       "0          2               1                        2       0  ...   \n",
       "1          1               1                        3       1  ...   \n",
       "2          2               4                        4       1  ...   \n",
       "3          4               1                        4       0  ...   \n",
       "4          1               3                        1       1  ...   \n",
       "\n",
       "   PercentSalaryHike  PerformanceRating  RelationshipSatisfaction  \\\n",
       "0                 11                  3                         1   \n",
       "1                 23                  4                         4   \n",
       "2                 15                  3                         2   \n",
       "3                 11                  3                         3   \n",
       "4                 12                  3                         4   \n",
       "\n",
       "   TotalWorkingYears  TrainingTimesLastYear  WorkLifeBalance  YearsAtCompany  \\\n",
       "0                  8                      0                1               6   \n",
       "1                 10                      3                3              10   \n",
       "2                  7                      3                3               0   \n",
       "3                  8                      3                3               8   \n",
       "4                  6                      3                3               2   \n",
       "\n",
       "   YearsInCurrentRole  YearsSinceLastPromotion  YearsWithCurrManager  \n",
       "0                   4                        0                     5  \n",
       "1                   7                        1                     7  \n",
       "2                   0                        0                     0  \n",
       "3                   7                        3                     0  \n",
       "4                   2                        2                     2  \n",
       "\n",
       "[5 rows x 29 columns]"
      ]
     },
     "execution_count": 71,
     "metadata": {},
     "output_type": "execute_result"
    }
   ],
   "source": [
    "empdat.head()"
   ]
  },
  {
   "cell_type": "markdown",
   "id": "d707a667",
   "metadata": {},
   "source": [
    "### Standardizing"
   ]
  },
  {
   "cell_type": "code",
   "execution_count": 72,
   "id": "5b95bbfa",
   "metadata": {},
   "outputs": [
    {
     "data": {
      "text/plain": [
       "(2940, 29)"
      ]
     },
     "execution_count": 72,
     "metadata": {},
     "output_type": "execute_result"
    }
   ],
   "source": [
    "from sklearn.preprocessing import StandardScaler\n",
    "sc= StandardScaler()\n",
    "sc.fit(empdat)\n",
    "sc_scale=sc.transform(empdat)\n",
    "\n",
    "\n",
    "spca=pd.DataFrame(data=sc_scale,columns=empdat.columns)\n",
    "spca.shape"
   ]
  },
  {
   "cell_type": "code",
   "execution_count": 73,
   "id": "17cec3c2",
   "metadata": {},
   "outputs": [
    {
     "data": {
      "text/html": [
       "<div>\n",
       "<style scoped>\n",
       "    .dataframe tbody tr th:only-of-type {\n",
       "        vertical-align: middle;\n",
       "    }\n",
       "\n",
       "    .dataframe tbody tr th {\n",
       "        vertical-align: top;\n",
       "    }\n",
       "\n",
       "    .dataframe thead th {\n",
       "        text-align: right;\n",
       "    }\n",
       "</style>\n",
       "<table border=\"1\" class=\"dataframe\">\n",
       "  <thead>\n",
       "    <tr style=\"text-align: right;\">\n",
       "      <th></th>\n",
       "      <th>Age</th>\n",
       "      <th>Attrition</th>\n",
       "      <th>BusinessTravel</th>\n",
       "      <th>DailyRate</th>\n",
       "      <th>Department</th>\n",
       "      <th>DistanceFromHome</th>\n",
       "      <th>Education</th>\n",
       "      <th>EducationField</th>\n",
       "      <th>EnvironmentSatisfaction</th>\n",
       "      <th>Gender</th>\n",
       "      <th>...</th>\n",
       "      <th>PercentSalaryHike</th>\n",
       "      <th>PerformanceRating</th>\n",
       "      <th>RelationshipSatisfaction</th>\n",
       "      <th>TotalWorkingYears</th>\n",
       "      <th>TrainingTimesLastYear</th>\n",
       "      <th>WorkLifeBalance</th>\n",
       "      <th>YearsAtCompany</th>\n",
       "      <th>YearsInCurrentRole</th>\n",
       "      <th>YearsSinceLastPromotion</th>\n",
       "      <th>YearsWithCurrManager</th>\n",
       "    </tr>\n",
       "  </thead>\n",
       "  <tbody>\n",
       "    <tr>\n",
       "      <th>0</th>\n",
       "      <td>0.446350</td>\n",
       "      <td>2.280906</td>\n",
       "      <td>0.590048</td>\n",
       "      <td>0.742527</td>\n",
       "      <td>1.401512</td>\n",
       "      <td>-1.010909</td>\n",
       "      <td>-0.891688</td>\n",
       "      <td>-0.937414</td>\n",
       "      <td>-0.660531</td>\n",
       "      <td>-1.224745</td>\n",
       "      <td>...</td>\n",
       "      <td>-1.150554</td>\n",
       "      <td>-0.426230</td>\n",
       "      <td>-1.584178</td>\n",
       "      <td>-0.421642</td>\n",
       "      <td>-2.171982</td>\n",
       "      <td>-2.493820</td>\n",
       "      <td>-0.123832</td>\n",
       "      <td>-0.063296</td>\n",
       "      <td>-0.679146</td>\n",
       "      <td>0.245834</td>\n",
       "    </tr>\n",
       "    <tr>\n",
       "      <th>1</th>\n",
       "      <td>1.322365</td>\n",
       "      <td>-0.438422</td>\n",
       "      <td>-0.913194</td>\n",
       "      <td>-1.297775</td>\n",
       "      <td>-0.493817</td>\n",
       "      <td>-0.147150</td>\n",
       "      <td>-1.868426</td>\n",
       "      <td>-0.937414</td>\n",
       "      <td>0.254625</td>\n",
       "      <td>0.816497</td>\n",
       "      <td>...</td>\n",
       "      <td>2.129306</td>\n",
       "      <td>2.346151</td>\n",
       "      <td>1.191438</td>\n",
       "      <td>-0.164511</td>\n",
       "      <td>0.155707</td>\n",
       "      <td>0.338096</td>\n",
       "      <td>0.678078</td>\n",
       "      <td>0.764998</td>\n",
       "      <td>-0.368715</td>\n",
       "      <td>0.806541</td>\n",
       "    </tr>\n",
       "    <tr>\n",
       "      <th>2</th>\n",
       "      <td>0.008343</td>\n",
       "      <td>2.280906</td>\n",
       "      <td>0.590048</td>\n",
       "      <td>1.414363</td>\n",
       "      <td>-0.493817</td>\n",
       "      <td>-0.887515</td>\n",
       "      <td>-0.891688</td>\n",
       "      <td>1.316673</td>\n",
       "      <td>1.169781</td>\n",
       "      <td>0.816497</td>\n",
       "      <td>...</td>\n",
       "      <td>-0.057267</td>\n",
       "      <td>-0.426230</td>\n",
       "      <td>-0.658973</td>\n",
       "      <td>-0.550208</td>\n",
       "      <td>0.155707</td>\n",
       "      <td>0.338096</td>\n",
       "      <td>-1.326697</td>\n",
       "      <td>-1.167687</td>\n",
       "      <td>-0.679146</td>\n",
       "      <td>-1.155935</td>\n",
       "    </tr>\n",
       "    <tr>\n",
       "      <th>3</th>\n",
       "      <td>-0.429664</td>\n",
       "      <td>-0.438422</td>\n",
       "      <td>-0.913194</td>\n",
       "      <td>1.461466</td>\n",
       "      <td>-0.493817</td>\n",
       "      <td>-0.764121</td>\n",
       "      <td>1.061787</td>\n",
       "      <td>-0.937414</td>\n",
       "      <td>1.169781</td>\n",
       "      <td>-1.224745</td>\n",
       "      <td>...</td>\n",
       "      <td>-1.150554</td>\n",
       "      <td>-0.426230</td>\n",
       "      <td>0.266233</td>\n",
       "      <td>-0.421642</td>\n",
       "      <td>0.155707</td>\n",
       "      <td>0.338096</td>\n",
       "      <td>0.277123</td>\n",
       "      <td>0.764998</td>\n",
       "      <td>0.252146</td>\n",
       "      <td>-1.155935</td>\n",
       "    </tr>\n",
       "    <tr>\n",
       "      <th>4</th>\n",
       "      <td>-1.086676</td>\n",
       "      <td>-0.438422</td>\n",
       "      <td>0.590048</td>\n",
       "      <td>-0.524295</td>\n",
       "      <td>-0.493817</td>\n",
       "      <td>-0.887515</td>\n",
       "      <td>-1.868426</td>\n",
       "      <td>0.565311</td>\n",
       "      <td>-1.575686</td>\n",
       "      <td>0.816497</td>\n",
       "      <td>...</td>\n",
       "      <td>-0.877232</td>\n",
       "      <td>-0.426230</td>\n",
       "      <td>1.191438</td>\n",
       "      <td>-0.678774</td>\n",
       "      <td>0.155707</td>\n",
       "      <td>0.338096</td>\n",
       "      <td>-0.925742</td>\n",
       "      <td>-0.615492</td>\n",
       "      <td>-0.058285</td>\n",
       "      <td>-0.595227</td>\n",
       "    </tr>\n",
       "  </tbody>\n",
       "</table>\n",
       "<p>5 rows × 29 columns</p>\n",
       "</div>"
      ],
      "text/plain": [
       "        Age  Attrition  BusinessTravel  DailyRate  Department  \\\n",
       "0  0.446350   2.280906        0.590048   0.742527    1.401512   \n",
       "1  1.322365  -0.438422       -0.913194  -1.297775   -0.493817   \n",
       "2  0.008343   2.280906        0.590048   1.414363   -0.493817   \n",
       "3 -0.429664  -0.438422       -0.913194   1.461466   -0.493817   \n",
       "4 -1.086676  -0.438422        0.590048  -0.524295   -0.493817   \n",
       "\n",
       "   DistanceFromHome  Education  EducationField  EnvironmentSatisfaction  \\\n",
       "0         -1.010909  -0.891688       -0.937414                -0.660531   \n",
       "1         -0.147150  -1.868426       -0.937414                 0.254625   \n",
       "2         -0.887515  -0.891688        1.316673                 1.169781   \n",
       "3         -0.764121   1.061787       -0.937414                 1.169781   \n",
       "4         -0.887515  -1.868426        0.565311                -1.575686   \n",
       "\n",
       "     Gender  ...  PercentSalaryHike  PerformanceRating  \\\n",
       "0 -1.224745  ...          -1.150554          -0.426230   \n",
       "1  0.816497  ...           2.129306           2.346151   \n",
       "2  0.816497  ...          -0.057267          -0.426230   \n",
       "3 -1.224745  ...          -1.150554          -0.426230   \n",
       "4  0.816497  ...          -0.877232          -0.426230   \n",
       "\n",
       "   RelationshipSatisfaction  TotalWorkingYears  TrainingTimesLastYear  \\\n",
       "0                 -1.584178          -0.421642              -2.171982   \n",
       "1                  1.191438          -0.164511               0.155707   \n",
       "2                 -0.658973          -0.550208               0.155707   \n",
       "3                  0.266233          -0.421642               0.155707   \n",
       "4                  1.191438          -0.678774               0.155707   \n",
       "\n",
       "   WorkLifeBalance  YearsAtCompany  YearsInCurrentRole  \\\n",
       "0        -2.493820       -0.123832           -0.063296   \n",
       "1         0.338096        0.678078            0.764998   \n",
       "2         0.338096       -1.326697           -1.167687   \n",
       "3         0.338096        0.277123            0.764998   \n",
       "4         0.338096       -0.925742           -0.615492   \n",
       "\n",
       "   YearsSinceLastPromotion  YearsWithCurrManager  \n",
       "0                -0.679146              0.245834  \n",
       "1                -0.368715              0.806541  \n",
       "2                -0.679146             -1.155935  \n",
       "3                 0.252146             -1.155935  \n",
       "4                -0.058285             -0.595227  \n",
       "\n",
       "[5 rows x 29 columns]"
      ]
     },
     "execution_count": 73,
     "metadata": {},
     "output_type": "execute_result"
    }
   ],
   "source": [
    "spca.head()"
   ]
  },
  {
   "cell_type": "code",
   "execution_count": 74,
   "id": "07740c3a",
   "metadata": {},
   "outputs": [],
   "source": [
    "first_column = spca.pop('Age')\n",
    "spca.insert(1, 'Age', first_column)"
   ]
  },
  {
   "cell_type": "code",
   "execution_count": 75,
   "id": "a3145c16",
   "metadata": {},
   "outputs": [
    {
     "data": {
      "text/html": [
       "<div>\n",
       "<style scoped>\n",
       "    .dataframe tbody tr th:only-of-type {\n",
       "        vertical-align: middle;\n",
       "    }\n",
       "\n",
       "    .dataframe tbody tr th {\n",
       "        vertical-align: top;\n",
       "    }\n",
       "\n",
       "    .dataframe thead th {\n",
       "        text-align: right;\n",
       "    }\n",
       "</style>\n",
       "<table border=\"1\" class=\"dataframe\">\n",
       "  <thead>\n",
       "    <tr style=\"text-align: right;\">\n",
       "      <th></th>\n",
       "      <th>Attrition</th>\n",
       "      <th>Age</th>\n",
       "      <th>BusinessTravel</th>\n",
       "      <th>DailyRate</th>\n",
       "      <th>Department</th>\n",
       "      <th>DistanceFromHome</th>\n",
       "      <th>Education</th>\n",
       "      <th>EducationField</th>\n",
       "      <th>EnvironmentSatisfaction</th>\n",
       "      <th>Gender</th>\n",
       "      <th>...</th>\n",
       "      <th>PercentSalaryHike</th>\n",
       "      <th>PerformanceRating</th>\n",
       "      <th>RelationshipSatisfaction</th>\n",
       "      <th>TotalWorkingYears</th>\n",
       "      <th>TrainingTimesLastYear</th>\n",
       "      <th>WorkLifeBalance</th>\n",
       "      <th>YearsAtCompany</th>\n",
       "      <th>YearsInCurrentRole</th>\n",
       "      <th>YearsSinceLastPromotion</th>\n",
       "      <th>YearsWithCurrManager</th>\n",
       "    </tr>\n",
       "  </thead>\n",
       "  <tbody>\n",
       "    <tr>\n",
       "      <th>0</th>\n",
       "      <td>2.280906</td>\n",
       "      <td>0.446350</td>\n",
       "      <td>0.590048</td>\n",
       "      <td>0.742527</td>\n",
       "      <td>1.401512</td>\n",
       "      <td>-1.010909</td>\n",
       "      <td>-0.891688</td>\n",
       "      <td>-0.937414</td>\n",
       "      <td>-0.660531</td>\n",
       "      <td>-1.224745</td>\n",
       "      <td>...</td>\n",
       "      <td>-1.150554</td>\n",
       "      <td>-0.426230</td>\n",
       "      <td>-1.584178</td>\n",
       "      <td>-0.421642</td>\n",
       "      <td>-2.171982</td>\n",
       "      <td>-2.493820</td>\n",
       "      <td>-0.123832</td>\n",
       "      <td>-0.063296</td>\n",
       "      <td>-0.679146</td>\n",
       "      <td>0.245834</td>\n",
       "    </tr>\n",
       "    <tr>\n",
       "      <th>1</th>\n",
       "      <td>-0.438422</td>\n",
       "      <td>1.322365</td>\n",
       "      <td>-0.913194</td>\n",
       "      <td>-1.297775</td>\n",
       "      <td>-0.493817</td>\n",
       "      <td>-0.147150</td>\n",
       "      <td>-1.868426</td>\n",
       "      <td>-0.937414</td>\n",
       "      <td>0.254625</td>\n",
       "      <td>0.816497</td>\n",
       "      <td>...</td>\n",
       "      <td>2.129306</td>\n",
       "      <td>2.346151</td>\n",
       "      <td>1.191438</td>\n",
       "      <td>-0.164511</td>\n",
       "      <td>0.155707</td>\n",
       "      <td>0.338096</td>\n",
       "      <td>0.678078</td>\n",
       "      <td>0.764998</td>\n",
       "      <td>-0.368715</td>\n",
       "      <td>0.806541</td>\n",
       "    </tr>\n",
       "    <tr>\n",
       "      <th>2</th>\n",
       "      <td>2.280906</td>\n",
       "      <td>0.008343</td>\n",
       "      <td>0.590048</td>\n",
       "      <td>1.414363</td>\n",
       "      <td>-0.493817</td>\n",
       "      <td>-0.887515</td>\n",
       "      <td>-0.891688</td>\n",
       "      <td>1.316673</td>\n",
       "      <td>1.169781</td>\n",
       "      <td>0.816497</td>\n",
       "      <td>...</td>\n",
       "      <td>-0.057267</td>\n",
       "      <td>-0.426230</td>\n",
       "      <td>-0.658973</td>\n",
       "      <td>-0.550208</td>\n",
       "      <td>0.155707</td>\n",
       "      <td>0.338096</td>\n",
       "      <td>-1.326697</td>\n",
       "      <td>-1.167687</td>\n",
       "      <td>-0.679146</td>\n",
       "      <td>-1.155935</td>\n",
       "    </tr>\n",
       "    <tr>\n",
       "      <th>3</th>\n",
       "      <td>-0.438422</td>\n",
       "      <td>-0.429664</td>\n",
       "      <td>-0.913194</td>\n",
       "      <td>1.461466</td>\n",
       "      <td>-0.493817</td>\n",
       "      <td>-0.764121</td>\n",
       "      <td>1.061787</td>\n",
       "      <td>-0.937414</td>\n",
       "      <td>1.169781</td>\n",
       "      <td>-1.224745</td>\n",
       "      <td>...</td>\n",
       "      <td>-1.150554</td>\n",
       "      <td>-0.426230</td>\n",
       "      <td>0.266233</td>\n",
       "      <td>-0.421642</td>\n",
       "      <td>0.155707</td>\n",
       "      <td>0.338096</td>\n",
       "      <td>0.277123</td>\n",
       "      <td>0.764998</td>\n",
       "      <td>0.252146</td>\n",
       "      <td>-1.155935</td>\n",
       "    </tr>\n",
       "    <tr>\n",
       "      <th>4</th>\n",
       "      <td>-0.438422</td>\n",
       "      <td>-1.086676</td>\n",
       "      <td>0.590048</td>\n",
       "      <td>-0.524295</td>\n",
       "      <td>-0.493817</td>\n",
       "      <td>-0.887515</td>\n",
       "      <td>-1.868426</td>\n",
       "      <td>0.565311</td>\n",
       "      <td>-1.575686</td>\n",
       "      <td>0.816497</td>\n",
       "      <td>...</td>\n",
       "      <td>-0.877232</td>\n",
       "      <td>-0.426230</td>\n",
       "      <td>1.191438</td>\n",
       "      <td>-0.678774</td>\n",
       "      <td>0.155707</td>\n",
       "      <td>0.338096</td>\n",
       "      <td>-0.925742</td>\n",
       "      <td>-0.615492</td>\n",
       "      <td>-0.058285</td>\n",
       "      <td>-0.595227</td>\n",
       "    </tr>\n",
       "  </tbody>\n",
       "</table>\n",
       "<p>5 rows × 29 columns</p>\n",
       "</div>"
      ],
      "text/plain": [
       "   Attrition       Age  BusinessTravel  DailyRate  Department  \\\n",
       "0   2.280906  0.446350        0.590048   0.742527    1.401512   \n",
       "1  -0.438422  1.322365       -0.913194  -1.297775   -0.493817   \n",
       "2   2.280906  0.008343        0.590048   1.414363   -0.493817   \n",
       "3  -0.438422 -0.429664       -0.913194   1.461466   -0.493817   \n",
       "4  -0.438422 -1.086676        0.590048  -0.524295   -0.493817   \n",
       "\n",
       "   DistanceFromHome  Education  EducationField  EnvironmentSatisfaction  \\\n",
       "0         -1.010909  -0.891688       -0.937414                -0.660531   \n",
       "1         -0.147150  -1.868426       -0.937414                 0.254625   \n",
       "2         -0.887515  -0.891688        1.316673                 1.169781   \n",
       "3         -0.764121   1.061787       -0.937414                 1.169781   \n",
       "4         -0.887515  -1.868426        0.565311                -1.575686   \n",
       "\n",
       "     Gender  ...  PercentSalaryHike  PerformanceRating  \\\n",
       "0 -1.224745  ...          -1.150554          -0.426230   \n",
       "1  0.816497  ...           2.129306           2.346151   \n",
       "2  0.816497  ...          -0.057267          -0.426230   \n",
       "3 -1.224745  ...          -1.150554          -0.426230   \n",
       "4  0.816497  ...          -0.877232          -0.426230   \n",
       "\n",
       "   RelationshipSatisfaction  TotalWorkingYears  TrainingTimesLastYear  \\\n",
       "0                 -1.584178          -0.421642              -2.171982   \n",
       "1                  1.191438          -0.164511               0.155707   \n",
       "2                 -0.658973          -0.550208               0.155707   \n",
       "3                  0.266233          -0.421642               0.155707   \n",
       "4                  1.191438          -0.678774               0.155707   \n",
       "\n",
       "   WorkLifeBalance  YearsAtCompany  YearsInCurrentRole  \\\n",
       "0        -2.493820       -0.123832           -0.063296   \n",
       "1         0.338096        0.678078            0.764998   \n",
       "2         0.338096       -1.326697           -1.167687   \n",
       "3         0.338096        0.277123            0.764998   \n",
       "4         0.338096       -0.925742           -0.615492   \n",
       "\n",
       "   YearsSinceLastPromotion  YearsWithCurrManager  \n",
       "0                -0.679146              0.245834  \n",
       "1                -0.368715              0.806541  \n",
       "2                -0.679146             -1.155935  \n",
       "3                 0.252146             -1.155935  \n",
       "4                -0.058285             -0.595227  \n",
       "\n",
       "[5 rows x 29 columns]"
      ]
     },
     "execution_count": 75,
     "metadata": {},
     "output_type": "execute_result"
    }
   ],
   "source": [
    "spca.head()"
   ]
  },
  {
   "cell_type": "code",
   "execution_count": 76,
   "id": "930c418a",
   "metadata": {},
   "outputs": [
    {
     "data": {
      "text/plain": [
       "0    1\n",
       "1    0\n",
       "2    1\n",
       "3    0\n",
       "4    0\n",
       "Name: Attrition, dtype: int64"
      ]
     },
     "execution_count": 76,
     "metadata": {},
     "output_type": "execute_result"
    }
   ],
   "source": [
    "# Defining X and y\n",
    "X= empdat.iloc[:,2:]\n",
    "y=empdat.iloc[:,1]\n",
    "y.head()"
   ]
  },
  {
   "cell_type": "code",
   "execution_count": 77,
   "id": "f08104d6",
   "metadata": {},
   "outputs": [
    {
     "name": "stdout",
     "output_type": "stream",
     "text": [
      "At Random state  21 The Model performing Well\n",
      "At Random State 21\n",
      "Training Accuracy score is- 84.01360544217688\n",
      "Testing Accuracy Score is- 84.01360544217688\n",
      "At Random state  100 The Model performing Well\n",
      "At Random State 100\n",
      "Training Accuracy score is- 83.80102040816327\n",
      "Testing Accuracy Score is- 83.84353741496598\n",
      "At Random state  235 The Model performing Well\n",
      "At Random State 235\n",
      "Training Accuracy score is- 83.80102040816327\n",
      "Testing Accuracy Score is- 83.84353741496598\n",
      "At Random state  280 The Model performing Well\n",
      "At Random State 280\n",
      "Training Accuracy score is- 84.90646258503402\n",
      "Testing Accuracy Score is- 84.8639455782313\n",
      "At Random state  372 The Model performing Well\n",
      "At Random State 372\n",
      "Training Accuracy score is- 84.01360544217688\n",
      "Testing Accuracy Score is- 84.01360544217688\n",
      "At Random state  389 The Model performing Well\n",
      "At Random State 389\n",
      "Training Accuracy score is- 84.22619047619048\n",
      "Testing Accuracy Score is- 84.18367346938776\n",
      "At Random state  428 The Model performing Well\n",
      "At Random State 428\n",
      "Training Accuracy score is- 83.80102040816327\n",
      "Testing Accuracy Score is- 83.84353741496598\n",
      "At Random state  472 The Model performing Well\n",
      "At Random State 472\n",
      "Training Accuracy score is- 83.80102040816327\n",
      "Testing Accuracy Score is- 83.84353741496598\n",
      "At Random state  510 The Model performing Well\n",
      "At Random State 510\n",
      "Training Accuracy score is- 83.80102040816327\n",
      "Testing Accuracy Score is- 83.84353741496598\n",
      "At Random state  511 The Model performing Well\n",
      "At Random State 511\n",
      "Training Accuracy score is- 84.01360544217688\n",
      "Testing Accuracy Score is- 84.01360544217688\n",
      "At Random state  513 The Model performing Well\n",
      "At Random State 513\n",
      "Training Accuracy score is- 83.6734693877551\n",
      "Testing Accuracy Score is- 83.6734693877551\n",
      "At Random state  534 The Model performing Well\n",
      "At Random State 534\n",
      "Training Accuracy score is- 83.80102040816327\n",
      "Testing Accuracy Score is- 83.84353741496598\n",
      "At Random state  578 The Model performing Well\n",
      "At Random State 578\n",
      "Training Accuracy score is- 84.01360544217688\n",
      "Testing Accuracy Score is- 84.01360544217688\n",
      "At Random state  581 The Model performing Well\n",
      "At Random State 581\n",
      "Training Accuracy score is- 84.01360544217688\n",
      "Testing Accuracy Score is- 84.01360544217688\n",
      "At Random state  618 The Model performing Well\n",
      "At Random State 618\n",
      "Training Accuracy score is- 83.80102040816327\n",
      "Testing Accuracy Score is- 83.84353741496598\n",
      "At Random state  621 The Model performing Well\n",
      "At Random State 621\n",
      "Training Accuracy score is- 84.01360544217688\n",
      "Testing Accuracy Score is- 84.01360544217688\n",
      "At Random state  627 The Model performing Well\n",
      "At Random State 627\n",
      "Training Accuracy score is- 84.35374149659864\n",
      "Testing Accuracy Score is- 84.35374149659864\n",
      "At Random state  640 The Model performing Well\n",
      "At Random State 640\n",
      "Training Accuracy score is- 84.43877551020408\n",
      "Testing Accuracy Score is- 84.35374149659864\n",
      "At Random state  752 The Model performing Well\n",
      "At Random State 752\n",
      "Training Accuracy score is- 83.6734693877551\n",
      "Testing Accuracy Score is- 83.6734693877551\n",
      "At Random state  805 The Model performing Well\n",
      "At Random State 805\n",
      "Training Accuracy score is- 83.80102040816327\n",
      "Testing Accuracy Score is- 83.84353741496598\n",
      "At Random state  820 The Model performing Well\n",
      "At Random State 820\n",
      "Training Accuracy score is- 84.4812925170068\n",
      "Testing Accuracy Score is- 84.52380952380952\n",
      "At Random state  906 The Model performing Well\n",
      "At Random State 906\n",
      "Training Accuracy score is- 83.80102040816327\n",
      "Testing Accuracy Score is- 83.84353741496598\n",
      "At Random state  947 The Model performing Well\n",
      "At Random State 947\n",
      "Training Accuracy score is- 83.80102040816327\n",
      "Testing Accuracy Score is- 83.84353741496598\n",
      "At Random state  988 The Model performing Well\n",
      "At Random State 988\n",
      "Training Accuracy score is- 84.01360544217688\n",
      "Testing Accuracy Score is- 84.01360544217688\n"
     ]
    }
   ],
   "source": [
    "from sklearn.linear_model import LogisticRegression\n",
    "from sklearn.model_selection import train_test_split\n",
    "from sklearn.metrics import accuracy_score, confusion_matrix, classification_report, roc_auc_score\n",
    "lr= LogisticRegression()\n",
    "for i in range(0,1000):\n",
    "    x_train, x_test, y_train, y_test= train_test_split(X,y, random_state= i, test_size= 0.20)\n",
    "    lr.fit(x_train, y_train)\n",
    "    pred_train=lr.predict(x_train)\n",
    "    pred_test=lr.predict(x_test)\n",
    "    if round(accuracy_score(y_train,pred_train)*100,1)== round(accuracy_score(y_test,pred_test)*100,1):\n",
    "        print(\"At Random state \", i, \"The Model performing Well\")\n",
    "        print(\"At Random State\", i)\n",
    "        print(\"Training Accuracy score is-\",accuracy_score(y_train,pred_train)*100 )\n",
    "        print(\"Testing Accuracy Score is-\", accuracy_score(y_test,pred_test)*100)"
   ]
  },
  {
   "cell_type": "code",
   "execution_count": 78,
   "id": "f2059503",
   "metadata": {},
   "outputs": [],
   "source": [
    "\n",
    "Xtrain,Xtest,ytrain,ytest = train_test_split(X,y,random_state=820,test_size=0.2)"
   ]
  },
  {
   "cell_type": "markdown",
   "id": "a734bc6e",
   "metadata": {},
   "source": [
    "## Modeling the Data"
   ]
  },
  {
   "cell_type": "code",
   "execution_count": 79,
   "id": "86844ae0",
   "metadata": {},
   "outputs": [
    {
     "name": "stdout",
     "output_type": "stream",
     "text": [
      "0.9625850340136054\n",
      "Accuracy with Random Forest Classifier : 96.26\n"
     ]
    }
   ],
   "source": [
    "\n",
    "from sklearn.ensemble import RandomForestClassifier\n",
    "\n",
    "from sklearn.metrics import accuracy_score\n",
    "rfclass = RandomForestClassifier()\n",
    "rfclass_model = rfclass.fit(Xtrain,ytrain)\n",
    "rfclass_predict = rfclass_model.predict(Xtest)\n",
    "rfclass_acc=accuracy_score(ytest,rfclass_predict)\n",
    "print(rfclass_acc)\n",
    "print('Accuracy with Random Forest Classifier : '  + str(round(rfclass_acc,4)*100))"
   ]
  },
  {
   "cell_type": "markdown",
   "id": "f5a1e4a4",
   "metadata": {},
   "source": [
    "#### Hyper parameter Tuning"
   ]
  },
  {
   "cell_type": "code",
   "execution_count": 80,
   "id": "ade5d6c8",
   "metadata": {},
   "outputs": [],
   "source": [
    "# import time\n",
    "# from sklearn.model_selection import GridSearchCV\n",
    "# start = time.time()\n",
    "\n",
    "# param_dist = {'max_depth': [1],\n",
    "#               'bootstrap': [True, False],\n",
    "#               'max_features': ['auto', 'sqrt', 'log2', None],\n",
    "#               'criterion': ['gini', 'entropy']}\n",
    "\n",
    "# cv_rf = GridSearchCV(rfclass, cv = 10,\n",
    "#                      param_grid=param_dist, \n",
    "#                      n_jobs = 1)\n",
    "# cv_rf.fit(Xtrain, ytrain)\n",
    "# print('Best Parameters using grid search: \\n', cv_rf.best_params_)\n",
    "# end = time.time()\n",
    "# print('Time taken in grid search: {0: .2f}'.format(end - start))"
   ]
  },
  {
   "cell_type": "markdown",
   "id": "23174efd",
   "metadata": {},
   "source": [
    "It is taking more than i expected and many tries done "
   ]
  },
  {
   "cell_type": "code",
   "execution_count": 81,
   "id": "d52da911",
   "metadata": {},
   "outputs": [],
   "source": [
    "# rfclass.set_params(bootstrap=False, criterion='entropy', max_depth= 12, max_features='auto')"
   ]
  },
  {
   "cell_type": "code",
   "execution_count": 82,
   "id": "380d4683",
   "metadata": {},
   "outputs": [],
   "source": [
    "# rfclass_model = rfclass.fit(Xtrain,ytrain)\n",
    "# rfclass_predict = rfclass_model.predict(Xtest)\n",
    "# rfclass_acc=accuracy_score(ytest,rfclass_predict)\n",
    "# print(rfclass_acc)\n",
    "# print('Accuracy with Random Forest Classifier : '  + str(round(rfclass_acc,4)*100))"
   ]
  },
  {
   "cell_type": "code",
   "execution_count": null,
   "id": "6bc532f4",
   "metadata": {},
   "outputs": [],
   "source": []
  },
  {
   "cell_type": "code",
   "execution_count": 83,
   "id": "e9ac0a31",
   "metadata": {},
   "outputs": [],
   "source": [
    "from sklearn.metrics import confusion_matrix\n",
    "def create_conf_mat(test_class_set, predictions):\n",
    "    \"\"\"Function returns confusion matrix comparing two arrays\"\"\"\n",
    "    if (len(test_class_set.shape) != len(predictions.shape) == 1):\n",
    "        return print('Arrays entered are not 1-D.\\nPlease enter the correctly sized sets.')\n",
    "    elif (test_class_set.shape != predictions.shape):\n",
    "        return print('Number of values inside the Arrays are not equal to each other.\\nPlease make sure the array has the same number of instances.')\n",
    "    else:\n",
    "        # Set Metrics\n",
    "        test_crosstb_comp = pd.crosstab(index = test_class_set,\n",
    "                                        columns = predictions)\n",
    "        # Changed for Future deprecation of as_matrix\n",
    "        test_crosstb = test_crosstb_comp.values\n",
    "        return test_crosstb"
   ]
  },
  {
   "cell_type": "code",
   "execution_count": 84,
   "id": "2d33cbc4",
   "metadata": {},
   "outputs": [
    {
     "data": {
      "image/png": "[encoded data removed]",
      "text/plain": [
       "<Figure size 432x288 with 1 Axes>"
      ]
     },
     "metadata": {
      "needs_background": "light"
     },
     "output_type": "display_data"
    }
   ],
   "source": [
    "\n",
    "conf_mat = create_conf_mat(ytest, rfclass_predict)\n",
    "sns.heatmap(conf_mat, annot=True, fmt='d', cbar=False)\n",
    "plt.xlabel('Predicted Values')\n",
    "plt.ylabel('Actual Values')\n",
    "plt.title('Actual vs. Predicted Confusion Matrix')\n",
    "plt.show()"
   ]
  },
  {
   "cell_type": "code",
   "execution_count": 85,
   "id": "cc3da746",
   "metadata": {},
   "outputs": [
    {
     "name": "stdout",
     "output_type": "stream",
     "text": [
      "Classification Report:\n",
      "                precision    recall  f1-score   support\n",
      "\n",
      "           0       0.96      1.00      0.98       487\n",
      "           1       1.00      0.78      0.88       101\n",
      "\n",
      "    accuracy                           0.96       588\n",
      "   macro avg       0.98      0.89      0.93       588\n",
      "weighted avg       0.96      0.96      0.96       588\n",
      "\n"
     ]
    }
   ],
   "source": [
    "from sklearn.metrics import classification_report\n",
    "\n",
    "print(\"Classification Report:\\n \", classification_report(ytest, rfclass_predict))\n"
   ]
  },
  {
   "cell_type": "code",
   "execution_count": null,
   "id": "956101e1",
   "metadata": {},
   "outputs": [],
   "source": []
  },
  {
   "cell_type": "markdown",
   "id": "73569373",
   "metadata": {},
   "source": [
    "## Logistic Regression"
   ]
  },
  {
   "cell_type": "code",
   "execution_count": 86,
   "id": "edf0474f",
   "metadata": {},
   "outputs": [],
   "source": [
    "from sklearn.linear_model import LogisticRegression"
   ]
  },
  {
   "cell_type": "code",
   "execution_count": 87,
   "id": "52f81441",
   "metadata": {},
   "outputs": [
    {
     "data": {
      "text/plain": [
       "LogisticRegression()"
      ]
     },
     "execution_count": 87,
     "metadata": {},
     "output_type": "execute_result"
    }
   ],
   "source": [
    "log_reg = LogisticRegression()\n",
    "log_reg.fit(Xtrain, ytrain)"
   ]
  },
  {
   "cell_type": "code",
   "execution_count": 88,
   "id": "6402822f",
   "metadata": {},
   "outputs": [],
   "source": [
    "y_pred = log_reg.predict(Xtest)"
   ]
  },
  {
   "cell_type": "code",
   "execution_count": 89,
   "id": "9453bae7",
   "metadata": {},
   "outputs": [],
   "source": [
    "from sklearn.metrics import accuracy_score, confusion_matrix, classification_report, roc_auc_score"
   ]
  },
  {
   "cell_type": "code",
   "execution_count": 90,
   "id": "870ed478",
   "metadata": {},
   "outputs": [
    {
     "name": "stdout",
     "output_type": "stream",
     "text": [
      "Accuracy Score:  0.8452380952380952\n"
     ]
    }
   ],
   "source": [
    "print(\"Accuracy Score: \", accuracy_score(ytest, y_pred))"
   ]
  },
  {
   "cell_type": "code",
   "execution_count": 91,
   "id": "7b594e63",
   "metadata": {},
   "outputs": [
    {
     "name": "stdout",
     "output_type": "stream",
     "text": [
      "Confusion Matrix:\n",
      "  [[486   1]\n",
      " [ 90  11]]\n"
     ]
    }
   ],
   "source": [
    "print(\"Confusion Matrix:\\n \", confusion_matrix(ytest, y_pred))"
   ]
  },
  {
   "cell_type": "code",
   "execution_count": 92,
   "id": "2f07f77f",
   "metadata": {},
   "outputs": [
    {
     "data": {
      "image/png": "[encoded data removed]",
      "text/plain": [
       "<Figure size 432x288 with 1 Axes>"
      ]
     },
     "metadata": {
      "needs_background": "light"
     },
     "output_type": "display_data"
    }
   ],
   "source": [
    "conf_mat = create_conf_mat(ytest, y_pred)\n",
    "sns.heatmap(conf_mat, annot=True, fmt='d', cbar=False)\n",
    "plt.xlabel('Predicted Values')\n",
    "plt.ylabel('Actual Values')\n",
    "plt.title('Actual vs. Predicted Confusion Matrix')\n",
    "plt.show()"
   ]
  },
  {
   "cell_type": "code",
   "execution_count": 93,
   "id": "a524792c",
   "metadata": {},
   "outputs": [
    {
     "name": "stdout",
     "output_type": "stream",
     "text": [
      "Classification Report:\n",
      "                precision    recall  f1-score   support\n",
      "\n",
      "           0       0.84      1.00      0.91       487\n",
      "           1       0.92      0.11      0.19       101\n",
      "\n",
      "    accuracy                           0.85       588\n",
      "   macro avg       0.88      0.55      0.55       588\n",
      "weighted avg       0.86      0.85      0.79       588\n",
      "\n"
     ]
    }
   ],
   "source": [
    "print(\"Classification Report:\\n \", classification_report(ytest, y_pred))"
   ]
  },
  {
   "cell_type": "markdown",
   "id": "26247e69",
   "metadata": {},
   "source": [
    "## Descision Tree"
   ]
  },
  {
   "cell_type": "code",
   "execution_count": 94,
   "id": "573e50e1",
   "metadata": {},
   "outputs": [
    {
     "name": "stdout",
     "output_type": "stream",
     "text": [
      "Accuracy with DecisionTreeClassifier : 94.89999999999999\n"
     ]
    }
   ],
   "source": [
    "# Descision tree\n",
    "from sklearn.tree import DecisionTreeClassifier\n",
    "\n",
    "dtclass = DecisionTreeClassifier()\n",
    "dtclass_model = dtclass.fit(Xtrain,ytrain)\n",
    "dtclass_predict = dtclass_model.predict(Xtest)\n",
    "dtclass_acc=accuracy_score(ytest,dtclass_predict)\n",
    "\n",
    "print('Accuracy with DecisionTreeClassifier : ' + str(round(dtclass_acc,4)*100))"
   ]
  },
  {
   "cell_type": "code",
   "execution_count": 95,
   "id": "af8fd8ea",
   "metadata": {},
   "outputs": [
    {
     "data": {
      "image/png": "[encoded data removed]",
      "text/plain": [
       "<Figure size 432x432 with 2 Axes>"
      ]
     },
     "metadata": {
      "needs_background": "light"
     },
     "output_type": "display_data"
    }
   ],
   "source": [
    "# lets print the confusion matrix\n",
    "# new style\n",
    "cm = confusion_matrix(ytest, y_pred)\n",
    "plt.rcParams['figure.figsize'] = (6, 6)\n",
    "sns.heatmap(cm, \n",
    "            cmap = 'copper',\n",
    "            annot = True)\n",
    "plt.show()"
   ]
  },
  {
   "cell_type": "code",
   "execution_count": 96,
   "id": "e369e2da",
   "metadata": {},
   "outputs": [
    {
     "name": "stdout",
     "output_type": "stream",
     "text": [
      "              precision    recall  f1-score   support\n",
      "\n",
      "           0       0.84      1.00      0.91       487\n",
      "           1       0.92      0.11      0.19       101\n",
      "\n",
      "    accuracy                           0.85       588\n",
      "   macro avg       0.88      0.55      0.55       588\n",
      "weighted avg       0.86      0.85      0.79       588\n",
      "\n"
     ]
    }
   ],
   "source": [
    "# classification report\n",
    "\n",
    "cr = classification_report(ytest, y_pred)\n",
    "print(cr)"
   ]
  },
  {
   "cell_type": "markdown",
   "id": "b61739f2",
   "metadata": {},
   "source": [
    "## Support Vector Machine"
   ]
  },
  {
   "cell_type": "code",
   "execution_count": 97,
   "id": "91278e9d",
   "metadata": {},
   "outputs": [
    {
     "name": "stdout",
     "output_type": "stream",
     "text": [
      "True         0   1\n",
      "Predicted         \n",
      "0          486  90\n",
      "1            1  11\n",
      "              precision    recall  f1-score   support\n",
      "\n",
      "           0       0.84      1.00      0.91       487\n",
      "           1       0.92      0.11      0.19       101\n",
      "\n",
      "    accuracy                           0.85       588\n",
      "   macro avg       0.88      0.55      0.55       588\n",
      "weighted avg       0.86      0.85      0.79       588\n",
      "\n",
      "0.8418367346938775\n",
      "Duration: --- 10.278076950709025 Minutes ---\n"
     ]
    }
   ],
   "source": [
    "import time\n",
    "start_time = time.time()\n",
    "from sklearn import svm\n",
    "clf = svm.SVC(kernel='linear', C=0.1,random_state=52) # SVC stands for support vector classification\n",
    "clf.fit(Xtrain, ytrain)\n",
    "model=clf\n",
    "\n",
    "pred=model.predict(Xtest)\n",
    "cm_df = pd.DataFrame(confusion_matrix(ytest, y_pred).T, index=model.classes_,\n",
    "                     columns=model.classes_)\n",
    "cm_df.index.name = 'Predicted'\n",
    "cm_df.columns.name = 'True'\n",
    "print(cm_df)\n",
    "print(classification_report(ytest, y_pred))\n",
    "print(model.score(Xtest,ytest))\n",
    "\n",
    "print(\"Duration: --- %s Minutes ---\" % ((time.time() - start_time)/60))"
   ]
  },
  {
   "cell_type": "code",
   "execution_count": 99,
   "id": "028679d7",
   "metadata": {},
   "outputs": [
    {
     "name": "stdout",
     "output_type": "stream",
     "text": [
      "ROC AUC: 0.55\n"
     ]
    },
    {
     "data": {
      "image/png": "[encoded data removed]",
      "text/plain": [
       "<Figure size 432x432 with 1 Axes>"
      ]
     },
     "metadata": {
      "needs_background": "light"
     },
     "output_type": "display_data"
    }
   ],
   "source": [
    "from sklearn.metrics import auc,roc_curve\n",
    "fpr, tpr, _ = roc_curve(ytest, y_pred)\n",
    " \n",
    "# Calculate the AUC\n",
    "roc_auc = auc(fpr, tpr)\n",
    "print('ROC AUC: %0.2f' % roc_auc)\n",
    " \n",
    "# Plot of a ROC curve for a specific class\n",
    "plt.figure()\n",
    "plt.plot(fpr, tpr, label='ROC curve (area = %0.2f)' % roc_auc)\n",
    "plt.plot([0, 1], [0, 1], 'k--')\n",
    "plt.xlim([0.0, 1.0])\n",
    "plt.ylim([0.0, 1.05])\n",
    "plt.xlabel('False Positive Rate')\n",
    "plt.ylabel('True Positive Rate')\n",
    "plt.title('ROC Curve')\n",
    "plt.legend(loc=\"lower right\")\n",
    "plt.show()\n"
   ]
  },
  {
   "cell_type": "code",
   "execution_count": null,
   "id": "f2ea7772",
   "metadata": {},
   "outputs": [],
   "source": []
  },
  {
   "cell_type": "code",
   "execution_count": null,
   "id": "32dc1d82",
   "metadata": {},
   "outputs": [],
   "source": []
  }
 ],
 "metadata": {
  "kernelspec": {
   "display_name": "Python 3",
   "language": "python",
   "name": "python3"
  },
  "language_info": {
   "codemirror_mode": {
    "name": "ipython",
    "version": 3
   },
   "file_extension": ".py",
   "mimetype": "text/x-python",
   "name": "python",
   "nbconvert_exporter": "python",
   "pygments_lexer": "ipython3",
   "version": "3.8.8"
  }
 },
 "nbformat": 4,
 "nbformat_minor": 5
}
